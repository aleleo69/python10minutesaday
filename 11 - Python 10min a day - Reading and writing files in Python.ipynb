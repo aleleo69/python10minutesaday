{
 "cells": [
  {
   "cell_type": "markdown",
   "metadata": {},
   "source": [
    "<img src=\"assets/jeremy-lapak-CVvFVQ_-oUg-unsplash.png\" alt=\"Python Envs\" style=\"display: block; margin: 0 auto\" />"
   ]
  },
  {
   "cell_type": "markdown",
   "metadata": {},
   "source": [
    "# Learning Python 10 minutes a day #11\n",
    "## Reading and writing files in Python\n",
    "[Medium article link](https://towardsdatascience.com/learning-python-10-minutes-a-day-11-d44d7df65dac)"
   ]
  },
  {
   "cell_type": "markdown",
   "metadata": {},
   "source": [
    "This is a [series](https://python-10-minutes-a-day.rocks) of short 10 minute Python articles helping you to get started with Python. I try to post an article each day (no promises), starting from the very basics, going up to more complex idioms. Feel free to contact me on [LinkedIn](https://www.linkedin.com/in/dennisbakhuis/) for questions or requests on particular subjects of Python, you want to know about."
   ]
  },
  {
   "cell_type": "markdown",
   "metadata": {},
   "source": [
    "<img src=\"assets/day11-wet.jpeg\" alt=\"Python Envs\"  width=\"600\" style=\"display: block; margin: 0 auto\" />"
   ]
  },
  {
   "cell_type": "markdown",
   "metadata": {},
   "source": [
    "Python can be seen as a Swiss army knife and comes with many convenient tools to quickly get the job done. A task that arises regularly is interacting with files. Tasks like loading data from a text file to use for analysis, or writing results from your calculation into a log file. Files can be seen as a large sequence of numbers, which are saved to zeros and ones (binary) on a disk. When a human interacts with files, the format is translated back into something we understand, for example ASCII characters (for a simple text file). All this actual storing and translating is done by our operating system."
   ]
  },
  {
   "cell_type": "markdown",
   "metadata": {},
   "source": [
    "There are different types of files, examples are text files, binaries, images, etc. Each type has their own format and can require a specific recipe for handling. For example, image files can be sectioned into various parts: a header to store general meta-data and a data-section where the actual data of the image is stored (most probably using some sort of compression). In a simple text file, the bytes represent the characters. How these characters are encoded depends on the encoding that is used. In the early days, ASCII was used, which was able to represent 128 characters. Nowadays, UTF-8 is the de-facto standard for character representation. This encoding is compatible with ASCII, but extends the number of characters to over 1 million. UTF-8 uses 8 bits for an encoding, but can combine up to 4 bytes to represent one of the characters. You can probably imagine that setting the wrong encoding for a file can result in errors. Still, starting with UTF-8 is a good guess as 95% of the web uses this encoding."
   ]
  },
  {
   "cell_type": "markdown",
   "metadata": {},
   "source": [
    "Another thing to be mindful of when working with text files are the line endings. While it seems trivial, for historical reasons, there is a difference in how to encode a new line. Windows uses the ASA (American Standards Association) standard and requires that each line in a text file is ended using a carriage return (indicated as \\r) and a line feed (indicated as \\n). Unix based systems (including Linux and Mac) only require the line feed (ISO standard). You can have some complications sending text files from Linux to Windows and vice versa, so pay attention if you get a text file from another system."
   ]
  },
  {
   "cell_type": "markdown",
   "metadata": {},
   "source": [
    "For other file formats, i.e. files that are not text, you most probably will use a package. While you can open a file in binary mode, you would have to handle the file format manually. The community has already provided packages to handle many files, most probably also the file-format you want to open. Examples are hdf5, jpg, json, or csv, but there are really tons of other packages to help with handling files. In this tutorial, we will only focus on text files."
   ]
  },
  {
   "cell_type": "markdown",
   "metadata": {},
   "source": [
    "To open text files (actually any file can be opened), we use the built-in open() function. The function needs at least a filename as a parameter and returns a file object. It has the mode as an optional second parameter for which we can set read, write, and some other special modes. We can interact with a file using the methods that are provided by the file object. Let us start with a couple of examples:"
   ]
  },
  {
   "cell_type": "code",
   "execution_count": null,
   "metadata": {},
   "outputs": [],
   "source": [
    "# open file for writing\n",
    "new_file = open('my_new_file.txt', 'w')\n",
    "new_file.write('My first line\\n')\n",
    "new_file.write('My second line\\n')\n",
    "new_file.write('My last line\\n')\n",
    "new_file.close()\n",
    "\n",
    "# open file for reading\n",
    "def print_file():\n",
    "    \"\"\"\n",
    "    A DRY example\n",
    "    \"\"\"\n",
    "    new_file = open('my_new_file.txt')  # by default it uses the 'r' mode (read)\n",
    "    for line in new_file:\n",
    "        print(line, end='')  # print has by default end='\\n' which is also in line\n",
    "    print()  # have an empty line in-between tests\n",
    "print_file()\n",
    "        \n",
    "# when open a file for writing, it by default overwrites\n",
    "new_file = open('my_new_file.txt', 'w')\n",
    "lines = ['Apples\\n', 'Pears\\n', 'Bananas\\n']\n",
    "new_file.writelines(lines)\n",
    "new_file.close()\n",
    "print_file()\n",
    "\n",
    "# to append, it has the special append mode:\n",
    "new_file = open('my_new_file.txt', 'a')\n",
    "lines = ['Cherries\\n', 'Olives\\n', 'Tomatoes\\n']\n",
    "new_file.writelines(lines)\n",
    "new_file.close()\n",
    "print_file()"
   ]
  },
  {
   "cell_type": "markdown",
   "metadata": {},
   "source": [
    "In the example we have opened a file in three different modes. By default, when not providing the mode string, the file is open in read mode (r). This implies that the file needs to exist or Python will come up with the error: ‘FileNotFoundError’. To write to a file, we have to explicitly state the write mode using the string ‘w’. Now, if the file exists it will be opened for writing and if it does not exist, a new file will be created. Be careful, as write mode will overwrite an existing file. To append an existing file, the open function has the append mode (a)."
   ]
  },
  {
   "cell_type": "markdown",
   "metadata": {},
   "source": [
    "Writing strings to a file can be done using the .write() method. The print() function automatically adds a line feed (\\n) to a string. This is not the case when writing lines to a file. If you want to have a new line, you have to explicitly add the special character to the string. We call it a single character because it will be encoded as a single character. The backslash is a special character to indicate special characters, like line feeds (\\n) or tabs (\\t). It can also be used to ‘escape’ characters, meaning to use the character as text instead of syntax. For example, using a backslash before a quote, will not identify it as a start of a string, but only as the quote character (‘escaping’ the syntax definition)."
   ]
  },
  {
   "cell_type": "markdown",
   "metadata": {},
   "source": [
    "Reading of files can be done using the .read() method. Python sees text files as an iterable, and separates each item by the line feed indicator (\\n). Therefore, we can use a for-loop to iterate through the whole file. The file object also provides methods for processing all lines at once: readlines() and writelines(). The readlines() method reads all lines, separated by the line feed, and returns the lines as a list (including the \\n indicator in each string). Similarly, the writelines() method writes a list of strings to the file. The latter does not add the line feed between each string in the list. This can be fixed using the join method: ‘\\n’.join(my_list)."
   ]
  },
  {
   "cell_type": "markdown",
   "metadata": {},
   "source": [
    "After you are done with a file, you have to close the file object. If you fail to do so, depending on your operating system, you might lose data. Some operating systems cache data that has to be written to disk. When the file is closed, the os then writes it to disk as one big chunk to minimize disk access. This helps minimizing IO operations and can also be faster in some cases. This also means that you have to make sure that you close a file properly. Each file object has a .close() method. By simply invoking the function the file is closed and all is saved."
   ]
  },
  {
   "cell_type": "markdown",
   "metadata": {},
   "source": [
    "## Practice for today:\n",
    "I have copy/pasted data from wine producing countries from [Wikipedia](https://en.wikipedia.org/wiki/List_of_wine-producing_regions#Countries) and put them in a text file. You can download the file [here](https://www.dropbox.com/s/dmtqu5dtuom9k74/wine_countries.txt?dl=1), or just copy/paste the table to a file yourself. The table had a row number, a country name, and the amount of wine produced in tonnes.\n",
    "\n",
    "### Assignment:\n",
    "Read the file, and sum up the total amount of wine produced in the world.\n",
    "\n",
    "### hints:\n",
    "- columns are separated by one special character (remember the .split() method?)\n",
    "- you have to convert the string to a number. Do you also notice the annoying decimal separator? (.replace() might help)\n",
    "- there is a built-in sum() that could sum your freshly created list of numbers."
   ]
  },
  {
   "cell_type": "markdown",
   "metadata": {},
   "source": [
    "If you have any questions, feel free to contact me through [LinkedIn](https://www.linkedin.com/in/dennisbakhuis/)."
   ]
  },
  {
   "cell_type": "code",
   "execution_count": null,
   "metadata": {},
   "outputs": [],
   "source": []
  }
 ],
 "metadata": {
  "kernelspec": {
   "display_name": "Python 3",
   "language": "python",
   "name": "python3"
  },
  "language_info": {
   "codemirror_mode": {
    "name": "ipython",
    "version": 3
   },
   "file_extension": ".py",
   "mimetype": "text/x-python",
   "name": "python",
   "nbconvert_exporter": "python",
   "pygments_lexer": "ipython3",
   "version": "3.7.7"
  }
 },
 "nbformat": 4,
 "nbformat_minor": 4
}
