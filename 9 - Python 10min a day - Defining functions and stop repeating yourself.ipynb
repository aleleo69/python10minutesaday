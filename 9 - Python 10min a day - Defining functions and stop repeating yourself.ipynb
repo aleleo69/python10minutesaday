{
 "cells": [
  {
   "cell_type": "markdown",
   "metadata": {},
   "source": [
    "<img src=\"assets/jeremy-lapak-CVvFVQ_-oUg-unsplash.png\" alt=\"Python Envs\" style=\"display: block; margin: 0 auto\" />"
   ]
  },
  {
   "cell_type": "markdown",
   "metadata": {},
   "source": [
    "# Learning Python 10 minutes a day #9\n",
    "## Defining functions and stop repeating yourself\n",
    "[Medium article link](https://towardsdatascience.com/learning-python-10-minutes-a-day-9-60ecdf101cb5)"
   ]
  },
  {
   "cell_type": "markdown",
   "metadata": {},
   "source": [
    "This is a [series](https://towardsdatascience.com/tagged/10minutespython) of short 10 minute Python articles helping you to get started with Python. I try to post an article each day (no promises), starting from the very basics, going up to more complex idioms. Feel free to contact me on [LinkedIn](https://www.linkedin.com/in/dennisbakhuis/) for questions or requests on particular subjects of Python, you want to know about."
   ]
  },
  {
   "cell_type": "markdown",
   "metadata": {},
   "source": [
    "Many of you have probably already heard of the [DRY](https://en.wikipedia.org/wiki/Don%27t_repeat_yourself) acronym: don’t repeat yourself. Sometimes your colleagues joke that you provided a WET solution: we enjoy typing. Jokes aside, it is a good habit to minimize copying and pasting code around when you have to repeat a certain step. We all probably had this moment after a productive morning, looking back at our code seeing the same code-block over and over again. This is generally the moment you realize that creating a function would have been a great idea."
   ]
  },
  {
   "cell_type": "markdown",
   "metadata": {},
   "source": [
    "<img src=\"assets/day9-drywet.jpeg\" alt=\"Python Envs\"  width=\"600\" style=\"display: block; margin: 0 auto\" />"
   ]
  },
  {
   "cell_type": "markdown",
   "metadata": {},
   "source": [
    "A function is a block of code that is reusable and specifically designed to do a certain task. You have already seen quite some functions, namely the built-in print() and len(). To call a function, you have to type its name with parenthesis after it. The name without the parenthesis is the reference which points to the function (everything in Python is an object remember?). A function can be called without parameters, meaning that there is nothing between the parenthesis. Many functions do however take one or more parameters and these can be supplied as variables or values, separated with a comma. Defining a function is done using the def keyword followed by a function name, a set of parenthesis, and a semicolon. All code is indented, similar to a for-loop or if-else statements. As a convention, the naming of a function is similar to variable names: all lower case with words separated using a underscore. Try to be short but concise. It is good practice to create a DocString for a function you create. Of course, it is not required when it is very clear what the function does, so use common sense when to create a DocString or comment to prevent over-commenting."
   ]
  },
  {
   "cell_type": "code",
   "execution_count": 4,
   "metadata": {},
   "outputs": [
    {
     "name": "stdout",
     "output_type": "stream",
     "text": [
      "This is my first function\n",
      "value 1: 10       --  value 2: 25\n",
      "value 1: 3.14159  --  value 2: Wow, so pi!\n",
      "Adding 1 to 25 gives us 26\n"
     ]
    },
    {
     "data": {
      "text/plain": [
       "NoneType"
      ]
     },
     "execution_count": 4,
     "metadata": {},
     "output_type": "execute_result"
    }
   ],
   "source": [
    "# a function without any parameters\n",
    "def my_function():\n",
    "    \"\"\"\n",
    "    My first toy function\n",
    "    \"\"\"\n",
    "    print('This is my first function')\n",
    "\n",
    "my_function()\n",
    "\n",
    "# a function with parameters\n",
    "def my_other_function(value1, value2):\n",
    "    \"\"\"\n",
    "    Prints two values to the screen\n",
    "    \"\"\"\n",
    "    print(f'value 1: {value1:<7}  --  value 2: {value2}')\n",
    "\n",
    "my_other_function(10, 25)\n",
    "my_other_function(3.14159, 'Wow, so pi!')  # Dynamic types: anything is okay for Python\n",
    "\n",
    "\n",
    "# a function that returns values\n",
    "def add_one(value):\n",
    "    \"\"\"\n",
    "    Adding one to the provided value\n",
    "    \"\"\"\n",
    "    new_value = value + 1\n",
    "    return new_value\n",
    "\n",
    "result = add_one(13)\n",
    "print(f'Adding 1 to 25 gives us {add_one(25)}')    \n",
    "\n",
    "# Actually a Python function always returns an object (None type if nothing is provided)\n",
    "def procrastinate():\n",
    "    \"\"\"\n",
    "    Too lazy to comment\n",
    "    \"\"\"\n",
    "    pass\n",
    "\n",
    "result = procrastinate()\n",
    "type(result)  # the built-in type function returns the class of the object"
   ]
  },
  {
   "cell_type": "markdown",
   "metadata": {},
   "source": [
    "A function does not only have to do stuff, but it can also return a result. In the example we created a function that adds one to a provided value. The result is send back using the return keyword. To use the return value, you can assign the result to a new variable or use it directly in a function. You can return any type of object, e.g. int, float, string, list, functions, or multiple using tuples. Python functions always return an object, however, if you do not ‘catch’ the object, the result is garbage-collected by the interpreter and disappears from memory. If you do catch the result, and the function does not have a return keyword, an object of the Nonetype is returned. This is an object which is ‘None’, i.e. it represents nothing, nada, nichts. We can test this by using the built-in type() function, which returns the class of the object."
   ]
  },
  {
   "cell_type": "markdown",
   "metadata": {},
   "source": [
    "The parameters that a function takes are dynamically typed and are not restricted by Python itself. Of course, if you provide a string and the function tries to square the string, it will raise an error. Type checking is the responsibility of the user and is a good practice for code that is shared between multiple users, especially if the code base is large. For smaller projects and code only for you, you can choose not to do type checking, with a chance of getting bugs. Developers like to go even one step further and change the default dynamically typed behavior of Python into static types. Since Python 3.6 you can provide the types for each parameter and the return value in the function definition. While I understand the benefit for debugging, I have never bothered. I guess with larger programs it might be more important, but for data science purposes I think data integrity is more important than static typing. On the other side, it is not to much work to apply. Here is a [great guide on static typing](https://medium.com/@ageitgey/learn-how-to-use-static-type-checking-in-python-3-6-in-10-minutes-12c86d72677b) in Python. Sometimes the dynamical typing is used as a benefit. A function can test for its type and do different things for different objects. Many packages like Numpy or Pandas use this to create an array or DataFrame from different datatypes. If we would statically type this, we would have to create different functions for each datatype. Dynamical typing can be a blessing, but it can also be a burden according to others. I have never found it problematic for any of my use cases."
   ]
  },
  {
   "cell_type": "code",
   "execution_count": 5,
   "metadata": {},
   "outputs": [
    {
     "name": "stdout",
     "output_type": "stream",
     "text": [
      "String provided: Hi there!\n",
      "List of strings: Hi there I am a list!\n",
      "Type not usable\n",
      "wine <---> beer\n",
      "milk <---> chocolate\n",
      "25%\n",
      "12.5!\n",
      "Arguments 1: hi\n",
      "Arguments 2: there\n"
     ]
    }
   ],
   "source": [
    "# Using dynamical typing to do different things for different inputs\n",
    "# This is also usable to do a more custom type checking\n",
    "def my_function(string_or_list):\n",
    "    \"\"\"\n",
    "    Print a string or a list of strings\n",
    "    \"\"\"\n",
    "    if type(string_or_list) == str:\n",
    "        print('String provided:', string_or_list)\n",
    "    elif type(string_or_list) == list:\n",
    "        print('List of strings:', ' '.join(string_or_list))\n",
    "    else:\n",
    "        print('Type not usable')\n",
    "\n",
    "input_value1 = 'Hi there!'\n",
    "input_value2 = ['Hi', 'there', 'I', 'am', 'a', 'list!']\n",
    "\n",
    "my_function(input_value1)\n",
    "my_function(input_value2)\n",
    "my_function(3.14159)\n",
    "\n",
    "\n",
    "# Named parameters\n",
    "def another_function(left_value, right_value):\n",
    "    \"\"\"\n",
    "    Print values in an amazing format\n",
    "    \"\"\"\n",
    "    print(f'{left_value} <---> {right_value}')\n",
    "\n",
    "# parameters can always be given in a named fashion (order does not matter)\n",
    "another_function(right_value='beer', left_value='wine')\n",
    "# however unnamed parameters are always from left to right\n",
    "another_function('milk', 'chocolate')\n",
    "\n",
    "\n",
    "# default values\n",
    "def yet_another_function(number, text='%'):\n",
    "    \"\"\"\n",
    "    Print value as a precentage\n",
    "    \"\"\"\n",
    "    print(f'{number}{text}')\n",
    "\n",
    "# values with defaults are not required but optional\n",
    "yet_another_function(25)\n",
    "yet_another_function(12.5, text='!')\n",
    "\n",
    "\n",
    "# arbitrary amount of parameters\n",
    "def my_function(*args):\n",
    "    for ix, arg in enumerate(args):\n",
    "        print(f'Arguments {ix+1}: {arg}')\n",
    "\n",
    "my_function('hi', 'there')"
   ]
  },
  {
   "cell_type": "markdown",
   "metadata": {},
   "source": [
    "Another way to provide parameters to a function is to use named parameters. These are also called key — value parameters and start with the defined parameter name followed by an equal sign and the assigned value or variable. For short functions, i.e. function with only one or two parameters, people do not really bother but when it is a complex function with many parameters, these help tremendously with readability. As the parameters are assigned explicitly, the order in which they are provided does not matter. If you for some reason match named parameters with standard sequential parameters, the order does matter, so you should be careful when doing this. In a similar manor, default values can also be provided in the definition of the function. This makes the parameter optional, as it already has a value assigned. All parameters that do not have a default value, are automatically flagged as required parameters and an error will be raised if they are not provided. Another common practice is to assign the None type as a default value. This makes the parameter optional and in the function itself you can test if the parameter is of type None or something else and act accordingly. Of course, such idioms are quite specific in their use case."
   ]
  },
  {
   "cell_type": "raw",
   "metadata": {},
   "source": [
    "One thing you might see sometimes is a method to make functions take an arbitrary amount of parameters. This methods uses the unpack operator and collects all arguments in another variable. It does differentiates between named and unnamed parameters. For unnamed parameters it uses the single star * operator, and packs them into a tuple. Named parameters are key — value parameters and are a so-called mapping and are collected using the ** operator and put into a dictionary. So when you see a function that is defined using *args and **kwargs, meaning arguments and keyword arguments, you know that the function can take an arbitrary (or flexible) amount of parameters. The print() function is an example of such a function."
   ]
  },
  {
   "cell_type": "markdown",
   "metadata": {},
   "source": [
    "## Practice for today:\n",
    "1. In a new Notebook, create your very own square function. The value takes a number, squares it, and returns the result.\n",
    "2. For the following list:\n",
    "\n",
    "```Python\n",
    "my_list = ['This', 'is', 'a', 'list', 'of', 'words', '!']\n",
    "```\n",
    "Join the list to create a string. hint: string has a join() method that excepts lists.\n",
    "\n",
    "3.  With the following list:\n",
    "\n",
    "```Python\n",
    "my_list = ['Alfred', 'Dennis', 'Rob', 'Coen', 'Coen', 'Alfred', 'Jeroen', 'Hendri', 'Alfred', 'Coen', 'Rob', 'Dennis', 'Rob', 'Dennis', 'Rob', 'Coen', 'Rob', 'Alfred', 'Jeroen', 'Hendri', 'Alfred', 'stop', 'Coen', 'Rob', 'Dennis', 'Dennis', 'Rob', 'Jeroen', 'Jeroen', 'Alfred', 'Jeroen', 'Hendri', 'Alfred', 'Coen', 'Rob', 'Dennis']\n",
    "```\n",
    "\n",
    "Create a function that removes a certain name from a list. The function takes a list and a name, loops over the list and adds the name to a new list if the name is not the given name, and returns the list.\n",
    "\n",
    "4. Create a function that returns all even numbers from a list on numbers. The function takes only a maximum number, which is by default set to 100. In the function it loops over a range and only puts the even numbers into a new list. It returns the list of even numbers. Can you extend the function with an optional parameter odd which selects the odd values? Hint: an even number returns 0 when you take the modulus of 2 (value % 2).\n"
   ]
  },
  {
   "cell_type": "markdown",
   "metadata": {},
   "source": [
    "If you have any questions, feel free to contact me through [LinkedIn](https://www.linkedin.com/in/dennisbakhuis/)."
   ]
  },
  {
   "cell_type": "code",
   "execution_count": null,
   "metadata": {},
   "outputs": [],
   "source": []
  }
 ],
 "metadata": {
  "kernelspec": {
   "display_name": "Python 3",
   "language": "python",
   "name": "python3"
  },
  "language_info": {
   "codemirror_mode": {
    "name": "ipython",
    "version": 3
   },
   "file_extension": ".py",
   "mimetype": "text/x-python",
   "name": "python",
   "nbconvert_exporter": "python",
   "pygments_lexer": "ipython3",
   "version": "3.7.7"
  }
 },
 "nbformat": 4,
 "nbformat_minor": 4
}
