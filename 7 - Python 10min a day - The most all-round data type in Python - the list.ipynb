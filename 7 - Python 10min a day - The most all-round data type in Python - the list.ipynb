{
 "cells": [
  {
   "cell_type": "markdown",
   "metadata": {},
   "source": [
    "<img src=\"assets/jeremy-lapak-CVvFVQ_-oUg-unsplash.png\" alt=\"Python Envs\" style=\"display: block; margin: 0 auto\" />"
   ]
  },
  {
   "cell_type": "markdown",
   "metadata": {},
   "source": [
    "# Learning Python 10 minutes a day #7\n",
    "## The most all-round data type in Python: the list\n",
    "[Medium article link](https://towardsdatascience.com/learning-python-10-minutes-a-day-7-5390dd024178)"
   ]
  },
  {
   "cell_type": "markdown",
   "metadata": {},
   "source": [
    "This is a [series](https://towardsdatascience.com/tagged/10minutespython) of short 10 minute Python articles helping you to get started with Python. I try to post an article each day (no promises), starting from the very basics, going up to more complex idioms. Feel free to contact me on [LinkedIn](https://www.linkedin.com/in/dennisbakhuis/) for questions or requests on particular subjects of Python, you want to know about."
   ]
  },
  {
   "cell_type": "markdown",
   "metadata": {},
   "source": [
    "Today we are going to look at lists, which is arguably Python’s workhorse in terms of data types. A list can be seen as a sort of container which can store all sorts of information. This can be numbers, strings, functions, or any other object (remember that in Python, everything is represented as an object?). A Python list is extremely versatile and you can mix and match any object you like. If you want, you can put a couple of numbers, three strings, and even other lists in your list."
   ]
  },
  {
   "cell_type": "markdown",
   "metadata": {},
   "source": [
    "*Yes, lists can be nested to create your own ‘list-ception’.*"
   ]
  },
  {
   "cell_type": "markdown",
   "metadata": {},
   "source": [
    "<img src=\"assets/day7-deeper.jpeg\" alt=\"Python Envs\"  width=\"600\" style=\"display: block; margin: 0 auto\" />"
   ]
  },
  {
   "cell_type": "markdown",
   "metadata": {},
   "source": [
    "Lists are created using the build-in class list() or with the shorter bracket notation. One important thing to remember is that lists are ordered. This means that the order in which you add items to a list is stored. When we append() items to a list, as the name suggest, items are added to the end. Using the pop() method, we can remove/get the last item from the list. Pop can also remove specific item by index. Here are a couple of examples."
   ]
  },
  {
   "cell_type": "code",
   "execution_count": null,
   "metadata": {},
   "outputs": [],
   "source": [
    "# Create an empty list\n",
    "my_list = list()\n",
    "short_list = []\n",
    "\n",
    "# Create list with items and 'mix & match' data types\n",
    "some_fruit = ['apples', 'pears', 'cherries']\n",
    "mixed_list = [0, 'cake', 3.14159, print]\n",
    "\n",
    "# Append to a list\n",
    "print(some_fruit)\n",
    "some_fruit.append('bananas')\n",
    "print(some_fruit)\n",
    "\n",
    "# Get items from a list\n",
    "fruit = some_fruit.pop()\n",
    "print(some_fruit)"
   ]
  },
  {
   "cell_type": "markdown",
   "metadata": {},
   "source": [
    "A list is one of the few data types in Python that are mutable. Float, int, and even Strings are immutable and each operation creates a new instance. Lists however can be changed. For example, you can add items to a list, the object is actually changed. We can prove this by using the build-in id() function. The id function returns the address of the object in memory and is a unique identifier for the object. Let us investigate these identifiers for an int and a list:"
   ]
  },
  {
   "cell_type": "code",
   "execution_count": null,
   "metadata": {},
   "outputs": [],
   "source": [
    "number = 37\n",
    "print('Number id:', id(number))\n",
    "\n",
    "number = number + 1\n",
    "print('Number id:', id(number))\n",
    "\n",
    "my_list = [1, 2, 3]\n",
    "print('List id:', id(my_list))\n",
    "\n",
    "my_list.append(4)\n",
    "print('List id:', id(my_list))"
   ]
  },
  {
   "cell_type": "markdown",
   "metadata": {},
   "source": [
    "We just saw that we can pop() the last item out of a list. To get items without removing them, we can use the indexing method using the bracket notation. Python starts indexing at zero and therefore, the first item in the list is my_list[0], the second item is my_list[1], and so on. Similar as with slicing with strings, the index must exists or you will get an ‘index out of range’ error. When you select ranges, you will get a new list instance with the sub-list. As with strings, we can also index backwards using negative values and provide a step. Maybe you did not realize this with strings, but with a negative step you can reverse a string or list: my_list[::-1] or my_string[::-1]. The basic arithmetic of lists works as expected: adding two lists is done with + while multiplication is done with *. Both return a new list instance. To create a copy of a list, it is not enough to simply write my_new_list = my_old_list. This just copies the reference, and not the list itself. To make an actual new list, you need to explicitly create one using the list class: my_new_list = list(my_old_list). Slicing also returns a new list instance, so you can also generate a copy by simply slicing ‘all’: my_new_list = my_old_list[:]. This last slicing trick does however not work with strings. Strings are immutable and therefore do not change. Python is smart enough to check if an immutable object with the required characteristics is already present in memory and will return a pointer to that object. Therefore, my_string[:] will return a reference to the same object, under the hood."
   ]
  },
  {
   "cell_type": "code",
   "execution_count": null,
   "metadata": {},
   "outputs": [],
   "source": [
    "my_list = ['a', 'b', 'c']\n",
    "my_second_list = ['d', 'e', 'f']\n",
    "\n",
    "# to combine list simply add the using +\n",
    "combined_list = my_list + my_second_list\n",
    "print(combined_list)\n",
    "\n",
    "# slices return new lists\n",
    "print('including start, but excluding end', combined_list[3:4])\n",
    "\n",
    "# single index selection return the item itself\n",
    "print(combined_list[-1])\n",
    "\n",
    "# therefore, assignment is a value or a list:\n",
    "combined_list[0] = 'z'\n",
    "combined_list[-2:] = ['a', 'b']\n",
    "print(combined_list)\n",
    "\n",
    "# combined list created a new container of references\n",
    "# and did not change the original\n",
    "print(my_list + my_second_list)\n",
    "\n",
    "# to add replace or add stuff, use the indices smart\n",
    "numbers = [1, 5, 'a', 'b']\n",
    "numbers[1:1] = [2, 3, 4]  # this range does not replace, just inserts\n",
    "numbers[-2:] = [6, 7]  # this range replaces the last two values\n",
    "print(numbers)\n",
    "\n",
    "# list in a list\n",
    "list_ception = ['a', 'b', ['c', 'd']]\n",
    "print(list_ception[0])\n",
    "print(list_ception[2])\n",
    "print(list_ception[2][0])  # to select a value of a sublist, chain the indices\n",
    "\n",
    "# there are many built-in methods for lists:\n",
    "print('Length of a list:', len(combined_list))\n",
    "print('Maximum value:', max([1, 2, 3]))\n",
    "print('Minimum value:', min([1, 2, 3]))\n",
    "print('Sum of all values:', sum([1, 2, 3]))"
   ]
  },
  {
   "cell_type": "markdown",
   "metadata": {},
   "source": [
    "There are many built-in methods for lists. For example to to check the length of a list, i.e. how many items there are in a list, we can use the len() method. This is again very similar to strings, in which len() returns the sequence length (number of characters). The reason why both share so many similarities is that both types are built from the iterable class. Other built-in methods are for example min(), max(), sum(), count(), find(), reversed(), remove(), and sort(). Feel free to inspect the DocStrings of these methods if you want to use them, or check a complete list of the methods with tab-completion."
   ]
  },
  {
   "cell_type": "markdown",
   "metadata": {},
   "source": [
    "In the previous article we learned about the in keyword, which can be used to find a sub-string in a string. This also works with finding items in a list. A list is a ordered container of references and in will check if there is a reference of the item in the list. If this is the case, it will return True and otherwise False. The Pythonic way to test if a list is empty is not to check if a list has a length of 0. While this works, list have a property of being False when they are empty, and True if they contain at least one item. This makes a empty-check very convenient."
   ]
  },
  {
   "cell_type": "raw",
   "metadata": {},
   "source": [
    "We have already mentioned tuple unpacking. This is a technique to systematically get values out of a iterable such as a list or tuple. It is called like this way because it is generally used with tuples, but it works exactly the same with lists. The most explicit way is to have the variables names before the equal sign, separated by commas and a iterable on the right: a, b = [1, 2]. Python also has an unpack operator for lists, which is the * operator placed in front of a list. The interpreter unpacks the list in the following way: [1, 2, 3] -> 1, 2, 3. This is useful, if you want to pass the individual parameters of a list to a function. It also works the other way around: a, b, *c, d = [1, 2, 3, 4, 5]. In this setting, the first two values of the list will be unpacked into variables a and b, and the last value will unpacked into d. All values in between are unpacked in c. This is most often seen in functions that can take an arbitrary amount of parameters with the terms *args and **kwargs. Here, the **operator is the unpacking of a mapping (dictionary). What this exactly means is for another time."
   ]
  },
  {
   "cell_type": "code",
   "execution_count": null,
   "metadata": {},
   "outputs": [],
   "source": [
    "my_list = [1, 2]\n",
    "empty_list = []\n",
    "\n",
    "# a list is False when empty\n",
    "if not empty_list:\n",
    "    print('List is empty!')\n",
    "\n",
    "# and True when not empty\n",
    "if my_list:\n",
    "    a, b = [1, 2]  # tuple unpacking\n",
    "    print('a:', a, 'b:', b)\n",
    "\n",
    "# unpacking using the * operator\n",
    "my_other_list = ['stone', 'apple', 'banana', 'pear', 'nail']\n",
    "stone, *fruit, nail = my_other_list\n",
    "print(fruit)"
   ]
  },
  {
   "cell_type": "markdown",
   "metadata": {},
   "source": [
    "## Practice for today:\n",
    "1.  In a new Notebook, create an empty list, and append a couple of values (numeric, string, and list). Can you also append a value to the list inside of the list? hint: indexing + append()\n",
    "2. With the following list:\n",
    "\n",
    "```Python\n",
    "my_list = ['This', 'is', 'a', 'list', 'of', 'words', '!']\n",
    "```\n",
    "Join the list to create a string. hint: string has a join() method that excepts lists.\n",
    "\n",
    "3.  With the following list:\n",
    "\n",
    "```Python\n",
    "my_list = ['Alfred', 'Dennis', 'Rob', 'Coen', 'Coen', 'Alfred', 'Jeroen', 'Hendri', 'Alfred', 'Coen', 'Rob', 'Dennis', 'Rob', 'Dennis', 'Rob', 'Coen', 'Rob', 'Alfred', 'Jeroen', 'Hendri', 'Alfred', 'stop', 'Coen', 'Rob', 'Dennis', 'Dennis', 'Rob', 'Jeroen', 'Jeroen', 'Alfred', 'Jeroen', 'Hendri', 'Alfred', 'Coen', 'Rob', 'Dennis']\n",
    "```\n",
    "\n",
    "a) how much coffee was served?\\\n",
    "b) who drank the most coffee?\\\n",
    "c) sort the list in reverse order.\n"
   ]
  },
  {
   "cell_type": "markdown",
   "metadata": {},
   "source": [
    "If you have any questions, feel free to contact me through [LinkedIn](https://www.linkedin.com/in/dennisbakhuis/)."
   ]
  },
  {
   "cell_type": "code",
   "execution_count": null,
   "metadata": {},
   "outputs": [],
   "source": []
  }
 ],
 "metadata": {
  "kernelspec": {
   "display_name": "Python 3",
   "language": "python",
   "name": "python3"
  },
  "language_info": {
   "codemirror_mode": {
    "name": "ipython",
    "version": 3
   },
   "file_extension": ".py",
   "mimetype": "text/x-python",
   "name": "python",
   "nbconvert_exporter": "python",
   "pygments_lexer": "ipython3",
   "version": "3.7.7"
  }
 },
 "nbformat": 4,
 "nbformat_minor": 4
}
