{
 "cells": [
  {
   "cell_type": "markdown",
   "metadata": {},
   "source": [
    "<img src=\"assets/jeremy-lapak-CVvFVQ_-oUg-unsplash.png\" alt=\"Python Envs\" style=\"display: block; margin: 0 auto\" />"
   ]
  },
  {
   "cell_type": "markdown",
   "metadata": {},
   "source": [
    "# Learning Python 10 minutes a day #6\n",
    "## Conditionals in Python: if, elif, and else structures\n",
    "[Medium article link](https://towardsdatascience.com/learning-python-10-minutes-a-day-6-4a61ddc8747d)"
   ]
  },
  {
   "cell_type": "markdown",
   "metadata": {},
   "source": [
    "This is a [series](https://towardsdatascience.com/tagged/10minutespython) of short 10 minute Python articles helping you to get started with Python. I try to post an article each day (no promises), starting from the very basics, going up to more complex idioms. Feel free to contact me on [LinkedIn](https://www.linkedin.com/in/dennisbakhuis/) for questions or requests on particular subjects of Python, you want to know about."
   ]
  },
  {
   "cell_type": "markdown",
   "metadata": {},
   "source": [
    "You probably already know that indentation is a thing in Python. Instead of using curly braces or begin/end statements, code-blocks are grouped by their level of indentation. In the beginning, this may seem a bit weird, but this is one of the core mechanics why Python is so readable. You are free to use any amount of indentation, for example two spaces, however, in the default style ([pep8](https://www.python.org/dev/peps/pep-0008/#indentation)) four spaces is recommended. If you choose a different amount (which you should not), or if you want to use tabs (please don’t), this is fine (only with good reasons), but you have to be consistent. If you are not consistent, you will get an indentation error. To minimize these errors, I highly advice to have an editor that can set the tab key as four spaces instead of tabs. Almost any text editor has this feature."
   ]
  },
  {
   "cell_type": "markdown",
   "metadata": {},
   "source": [
    "Now that we know that indentation is important, we can discus a construct that actually uses different levels of nested code-blocks: the if-else statements. These conditional statements are very common constructs in practically any programming language. They test a certain condition and if this is successful, run one or multiple statements and possibly, if the condition is unsuccessful, run a different set of statements. Below is a simple construct of conditionals in Python:"
   ]
  },
  {
   "cell_type": "code",
   "execution_count": null,
   "metadata": {},
   "outputs": [],
   "source": [
    "a = 30\n",
    "\n",
    "if a==30:\n",
    "    print('The value is exactly 30!')\n",
    "elif a>30:\n",
    "    print('The value is above 30')\n",
    "else:\n",
    "    print('The value must be below 30')"
   ]
  },
  {
   "cell_type": "markdown",
   "metadata": {},
   "source": [
    "The syntax is not that hard to understand. An if-statement starts with the if keyword followed by a condition. This condition can be anything which renders to a boolean value. Boolean values, which are of type bool in Python are either True (pay attention to the capitalization) or False. Like I already said many time, everything in Python is represented by an object and True and False are special objects that are already created for you. If a variable is True, the variable is pointing at this special True instance. In the previous example we test using the double equal sign (==) if the variable a is equal to 30. This will result in a True if this is the case, or a False if it is not, and therefore, always render into a boolean value. Other conditional operators are greater than (>), greater than or equal (>=), less than (<), less than or equal (<=), or not equal (!=). After the conditional, a semicolon indicate the start of the code-block (followed by the statements indented). There is another special keyword which is used commonly: is. The is keyword is similar to ==, however it tests if both the variables (the references) point to the same object. In Python there is only one True object, and if two variables are True, they point to the same object in memory. We will learn later when the is statement is quite useful."
   ]
  },
  {
   "cell_type": "markdown",
   "metadata": {},
   "source": [
    "Python runs code in a linear fashion, meaning it starts from the top, and sequentially executes each statement. This is also the case for the if-else statement we have constructed above. First it will test the first condition, if this is True, it will run the code in the indented code-block, but the rest of the if-else construct will be neglected. Only, if the first part of the if-statement is False, it will continue to the next section. This can be and elif or an ‘else’. elif is a shorter notation for else if and here you can test another condition, followed by another indented code-block if the conditional is True. There can be an arbitrary amount of elif statements. A final but optional statement in the if-else construct is the else statement. This does not test any condition but will be executed if none of the if or elif statements were True. All statements that are in the indented code-block after the else statement are executed."
   ]
  },
  {
   "cell_type": "markdown",
   "metadata": {},
   "source": [
    "What if you want to test multiple conditions? For this, there are several logical operators, similar to other languages, namely: and, or, and not. These logical operators ‘combine’ two boolean values to create a new condition. The and operator requires both values to be True, to result in a True, while the or operator requires only one of the values to be True, to result in a True itself. The not operator reverses a boolean value, i.e. not(True) == False. If a variable is a boolean itself, you can directly tests it condition. It is completely valid to test a condition like raining_outside == True, however, if the boolean variable would for example be True, you are testing if True == True. As the if-statement needs a boolean, one of these is already enough."
   ]
  },
  {
   "cell_type": "code",
   "execution_count": null,
   "metadata": {},
   "outputs": [],
   "source": [
    "raining_outside = True\n",
    "going_outside = True\n",
    "temperature = 30\n",
    "\n",
    "# Multiple conditions\n",
    "if raining_outside and going_outside:\n",
    "    use_embrella = True\n",
    "elif raining_outside and not going_outside:\n",
    "    use_embrella = False\n",
    "elif not raining_outside and going_outside and temperature > 25:\n",
    "    use_sunscreen = True\n",
    "else:\n",
    "    sell_embrella = True\n",
    "\n",
    "# While there are no strict styles, try to make it readable\n",
    "if (\n",
    "    not raining_outside\n",
    "    and going_outside \n",
    "    and temperature > 25\n",
    "):\n",
    "    use_sunscreen = True"
   ]
  },
  {
   "cell_type": "markdown",
   "metadata": {},
   "source": [
    "This was already all you need to know about the if-statement flow. There are a couple details which are nice to know but are not used that often, but can be useful in specific situations. For example, some methods of objects return a boolean and these can be tested using the if-statement. The str object we learned of last Friday has many methods that can directly be tested. These methods generally start with is…(), for example methods like: isdigit(), isspace(), or isupper(). Of course, you can use any method and use a conditional operator to create a boolean: my_string.count(‘abc’) == 2."
   ]
  },
  {
   "cell_type": "markdown",
   "metadata": {},
   "source": [
    "Strings, and actually any sequence type in Python, can also be tested for a sub-sequence in a list. This is done using the in keyword and this feels quite natural to me. For example to test if the word ‘python’ is in the the string ‘I think python is easy’, the only thing you need to do is put in between the strings: ‘python’ in ‘I think python is easy’. This will return True if the substring (left part) is in the main string (right part). We will see later that a similar pattern is used for the list data type."
   ]
  },
  {
   "cell_type": "markdown",
   "metadata": {},
   "source": [
    "Similar to other languages, there is also a possibility to create one-line and in-line if-statements. These can sometimes be useful, but try to limit those as they can clutter the readability. I think they are most useful in somethings that is called a list-comprehension, which we will see later, but one-line/in-line if-statements are valid throughout Python."
   ]
  },
  {
   "cell_type": "markdown",
   "metadata": {},
   "source": [
    "One detail to remember is that there are two ways to write and and or, namely just the words (like we just did) and the short-hand notation using the symbols & and | respectively. Officially, the first way are the ‘logical-and’ and ‘logical-or’ while the latter are ‘bitwise-and’ and ‘bitwise-or’. For booleans they mean the same in vanilla Python but when using other packages, they are defined differently. For example, packages like Numpy and Pandas create new data structures which consists of arrays or tabular data. Generally you want to test many booleans at once (for example all rows of the Pandas DataFrame). In these packages, the and and or are still defined to test a single boolean value, while & and | are defined to test the whole list, and thereby testing each item of the list with the condition. If this is not clear, we will have an example when discussing list, so do not worry about it now."
   ]
  },
  {
   "cell_type": "markdown",
   "metadata": {},
   "source": [
    "A last thing that might be useful is the pass statement. This is just a placeholder to do nothing and is used to create an empty code-block. When you create an if-statement, it expects at least one statement if the condition is True. If you are not sure yet what it is, you cannot leave it empty as you will get an indentation error. For such a situation you can use the pass statement."
   ]
  },
  {
   "cell_type": "code",
   "execution_count": null,
   "metadata": {},
   "outputs": [],
   "source": [
    "my_string = 'I think python is very easy'\n",
    "my_other_string = '42'\n",
    "my_substring = 'python'\n",
    "\n",
    "if not my_string.islower():\n",
    "    print('The string contains at least one capital letter')\n",
    "\n",
    "if my_other_string.isdigit():\n",
    "    value = int(my_other_string)\n",
    "\n",
    "if my_substring in my_string:\n",
    "    print('Yup, python is in this string')\n",
    "    \n",
    "# while one-line if statements are valid, do not use them too often\n",
    "raining_outside = True\n",
    "my_string = 'it rains outside' if raining_outside else 'it does not rain outside'\n",
    "print('I get wet!' if raining_outside else 'it is not raining')\n",
    "\n",
    "if True & True or True and True:\n",
    "    print('This means the same in vanilla Python')\n",
    "    print('But could mean something else in other packages')\n",
    "\n",
    "if raining_outside:\n",
    "    # we need to implement this later\n",
    "    pass"
   ]
  },
  {
   "cell_type": "markdown",
   "metadata": {},
   "source": [
    "## Practice for today:\n",
    "1. In a new Notebook, assign various numeric strings and test if these are numeric.\n",
    "2. Test if this string: `‘3.1415826535897’` has at least the first eight digits the same as the actual value of pi.\\\n",
    "(hint: to get pi first ‘import math’ and the have ‘pi = math.pi’. You might have to convert it to a string ;-))\n",
    "3. Create if-statement-ception: an if-statement in an if-statement, so a nested if-statement."
   ]
  },
  {
   "cell_type": "markdown",
   "metadata": {},
   "source": [
    "If you have any questions, feel free to contact me through [LinkedIn](https://www.linkedin.com/in/dennisbakhuis/)."
   ]
  },
  {
   "cell_type": "code",
   "execution_count": null,
   "metadata": {},
   "outputs": [],
   "source": []
  }
 ],
 "metadata": {
  "kernelspec": {
   "display_name": "Python 3",
   "language": "python",
   "name": "python3"
  },
  "language_info": {
   "codemirror_mode": {
    "name": "ipython",
    "version": 3
   },
   "file_extension": ".py",
   "mimetype": "text/x-python",
   "name": "python",
   "nbconvert_exporter": "python",
   "pygments_lexer": "ipython3",
   "version": "3.7.7"
  }
 },
 "nbformat": 4,
 "nbformat_minor": 4
}
