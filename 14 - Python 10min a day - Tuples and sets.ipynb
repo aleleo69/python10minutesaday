{
 "cells": [
  {
   "cell_type": "markdown",
   "metadata": {},
   "source": [
    "<img src=\"assets/jeremy-lapak-CVvFVQ_-oUg-unsplash.png\" alt=\"Python Envs\" style=\"display: block; margin: 0 auto\" />"
   ]
  },
  {
   "cell_type": "markdown",
   "metadata": {},
   "source": [
    "# Learning Python 10 minutes a day #14\n",
    "## Tuples and sets\n",
    "[Medium article link](https://towardsdatascience.com/learning-python-10-minutes-a-day-14-da2cc6a05c59)"
   ]
  },
  {
   "cell_type": "markdown",
   "metadata": {},
   "source": [
    "This is a [series](https://python-10-minutes-a-day.rocks) of short 10 minute Python articles helping you to get started with Python. I try to post an article each day (no promises), starting from the very basics, going up to more complex idioms. Feel free to contact me on [LinkedIn](https://www.linkedin.com/in/dennisbakhuis/) for questions or requests on particular subjects of Python, you want to know about."
   ]
  },
  {
   "cell_type": "markdown",
   "metadata": {},
   "source": [
    "We have already some understanding of lists() and dict(), but there are two other data types which you will commonly come across: tuples and sets. Lets first start with tuples. Tuples are almost identical to lists, however they are immutable. This means that they cannot change after they are created and therefore lose the property of being dynamic. Because lists are flexible, they can also be somewhat slow. If you do not need the flexibility of a list, a tuple can speed a script a bit. Personally, I have never noticed any difference in speed as the lists I use are relatively small. Because tuples are immutable, you can also use them as dictionary keys, and create special identifiers using multiple values. This is of course a special use case, but a very cool one. The most common use of tuples is to combine multiple objects as a return value for a function. When I just started using Python I never realized that I was using tuples at all. First, lets start with some examples:"
   ]
  },
  {
   "cell_type": "code",
   "execution_count": null,
   "metadata": {},
   "outputs": [],
   "source": [
    "# defining a tuple\n",
    "my_tuple = tuple()\n",
    "another_tuple = ()\n",
    "your_tuple = 10, 'hello'\n",
    "yet_another_tuple = 5,  # just adding a comma creates a tuple with the integer in it\n",
    "\n",
    "# all are tuples\n",
    "print('types:', type(my_tuple), type(another_tuple))\n",
    "print('types:', type(your_tuple), type(yet_another_tuple))\n",
    "print(your_tuple[1], yet_another_tuple[0])\n",
    "\n",
    "\n",
    "def my_func(number1, number2):\n",
    "    \"\"\"\n",
    "    Incredible useful function \n",
    "    \"\"\"\n",
    "    value1 = number1 * number2\n",
    "    value2 = number1 / number2\n",
    "    return value1, value2\n",
    "\n",
    "# the function returns a tuple\n",
    "returned_tuple = my_func(5, 5)\n",
    "print(returned_tuple, returned_tuple[0], returned_tuple[1])\n",
    "\n",
    "# we can 'unpack' the tuple directly if we like\n",
    "value1, value2 = my_func(6, 3)\n",
    "print(value1, value2)"
   ]
  },
  {
   "cell_type": "markdown",
   "metadata": {},
   "source": [
    "Tuples are created using the tuple() keyword, the shorter parenthesis notation, and something I realized much later, simply by separating objects using a comma. In the example we have created empty tuples. This of course does not make a lot of sense, as they are immutable, they are doomed to be empty forever. If a tuple has one or more values, they can be accessed similar to lists using the bracket notation and a sequential integer index. The more common use however is to directly unpack the tuple into multiple variables. In the example we have created an incredible useful function which returns two values. We have not included the parenthesis in the return statement but Python still creates a tuple. The return value can be ‘catched’ as a tuple, or we can unpack them in two values. I think the latter is a bit more readable. If the function returns many values it can make sense to still use the tuple directly."
   ]
  },
  {
   "cell_type": "markdown",
   "metadata": {},
   "source": [
    "The final basic data type is a set. The set is an unordered data type that is again mutable. We can add or remove items to a set, however only unique items will be saved and by definition there are no duplicates in a set. To achieve this, a set can only contain immutable data types. This means that you cannot have a set containing lists, dictionaries, or other sets. A set itself works again very similar to lists. You can check if a value is in a list using the in keyword and use a boolean test to check if list is empty. The len() functions also works like expected. There are quite some methods: e.g. add, remove, pop, and many more. These methods can easily be found using tab completion and all have a DocString."
   ]
  },
  {
   "cell_type": "markdown",
   "metadata": {},
   "source": [
    "Sets probably have many different use cases but I have only used it to get the unique entries in a list. For example, if you have a piece of text, it is quite easy to split the text in to a list of words. Now, converting the list into a set, we have all the unique words. To create a set we can use the set() keyword or the shorter curly braces notation. Curly braces are also used for dictionaries, however, to get a dictionary you have to provide key-value pairs. To create a set, you simply provide values separated by commas within the curly braces. A set does not preserve order (a set is unordered). As there are also no keys, we cannot use the bracket notation to access the values. Trying to access a value using my_set[1] will result in a TypeError exception because a set is not subscriptable. Sets are mostly used to check if an item is contained in a set. There are also some operations which are linked to the mathematical definition of sets, such as union, difference, intersection."
   ]
  },
  {
   "cell_type": "code",
   "execution_count": null,
   "metadata": {},
   "outputs": [],
   "source": [
    "my_set = set()\n",
    "another_set = {}\n",
    "\n",
    "colors = {'red', 'blue', 'orange', 'green', 'green'}\n",
    "print(colors)  # notice that the order is not fixed\n",
    "print(type(colors))\n",
    "\n",
    "# iterate over a set\n",
    "for color in colors:\n",
    "    print(color)\n",
    "\n",
    "# sets have operators such as union, intersection, and difference\n",
    "def same_words(string1, string2):\n",
    "    \"\"\"\n",
    "    return words that are in both strings\n",
    "    \"\"\"\n",
    "    set1 = set(string1.split())\n",
    "    set2 = set(string2.split())\n",
    "    overlap = set1.intersection(set2)\n",
    "    return overlap\n",
    "\n",
    "string1 = 'This is a great day'\n",
    "string2 = 'another day at the office'\n",
    "same_words(string1, string2)"
   ]
  },
  {
   "cell_type": "markdown",
   "metadata": {},
   "source": [
    "While sets are used less often, they can be handy in specific use cases. Tuples are used quite regularly but we might not realize that we are. With these two classes explained, you now know all the basic data types in Python. There are of course many other types of objects and you can even create your own data types using class definitions. But that is something for a future session."
   ]
  },
  {
   "cell_type": "markdown",
   "metadata": {},
   "source": [
    "## Practice for today:\n",
    "In natural language processing (NLP) tasks, a common analysis is word frequency analysis. A piece of text (often called corpus) consists of words (sometimes called tokens). It might be interesting to check which words are used more often than others. For this we can do a word frequency analysis. The first step is to find the unique words from a text. This smells like a great usage for a set. I have copied a small piece of text from [Wikipedia](https://en.wikipedia.org/wiki/Joke) and provided a sort function:"
   ]
  },
  {
   "cell_type": "code",
   "execution_count": null,
   "metadata": {},
   "outputs": [],
   "source": [
    "corpus = 'A joke is a display of humour in which words are used within a specific and well-defined narrative structure to make people laugh and is not meant to be taken seriously. It takes the form of a story, usually with dialogue, and ends in a punch line. It is in the punch line that the audience becomes aware that the story contains a second, conflicting meaning. This can be done using a pun or other word play such as irony or sarcasm, a logical incompatibility, nonsense, or other means. Linguist Robert Hetzron offers the definition: A joke is a short humorous piece of oral literature in which the funniness culminates in the final sentence, called the punchline. In fact, the main condition is that the tension should reach its highest level at the very end. No continuation relieving the tension should be added. As for its being oral, it is true that jokes may appear printed, but when further transferred, there is no obligation to reproduce the text verbatim, as in the case of poetry. It is generally held that jokes benefit from brevity, containing no more detail than is needed to set the scene for the punchline at the end. In the case of riddle jokes or one-liners the setting is implicitly understood, leaving only the dialogue and punchline to be verbalised. However, subverting these and other common guidelines can also be a source of humor-the shaggy dog story is in a class of its own as an anti-joke; although presenting as a joke, it contains a long drawn-out narrative of time, place and character, rambles through many pointless inclusions and finally fails to deliver a punchline. Jokes are a form of humour, but not all humour is a joke. Some humorous forms which are not verbal jokes are: involuntary humour, situational humour, practical jokes, slapstick and anecdotes. Identified as one of the simple forms of oral literature by the Dutch linguist André Jolles, jokes are passed along anonymously. They are told in both private and public settings; a single person tells a joke to his friend in the natural flow of conversation, or a set of jokes is told to a group as part of scripted entertainment. Jokes are also passed along in written form or, more recently, through the internet. Stand-up comics, comedians and slapstick work with comic timing, precision and rhythm in their performance, relying as much on actions as on the verbal punchline to evoke laughter. This distinction has been formulated in the popular saying A comic says funny things; a comedian says things funny. '\n",
    "stopwords = {'the', 'a', 'in', 'of', 'is', 'and', 'to', 'as', 'are', 'or', 'be', 'that', 'it', 'which', 'no', 'not', 'its', 'but', 'also', 'on'}\n",
    "\n",
    "def sort_frequency_list(my_dictionary):\n",
    "    \"\"\"\n",
    "    Sorts a word list by frequency.\n",
    "    \n",
    "    Parameters\n",
    "    ----------\n",
    "    my_dictionary : dictionary\n",
    "      Dictionary with word frequency entries: {'word': frequecy} -> {'banana': 3}\n",
    "    \n",
    "    Returns\n",
    "    -------\n",
    "    sorted_frequency : list of tuples\n",
    "      List containing tuples of word and frequency, ordered by decreasing frequency\n",
    "    \n",
    "    Example\n",
    "    -------\n",
    "    my_dict = {'amazing': 1, 'python': 5, 'is': 3}\n",
    "    sorted_dict = sort_frequency_list(my_dict)\n",
    "    for word, frequency in sorted_dict:\n",
    "        print(word, ' --> ', frequency)\n",
    "    \"\"\"\n",
    "    sorted_dict = sorted(my_dictionary.items(), key=lambda item: item[1], reverse=True)\n",
    "    return sorted_dict"
   ]
  },
  {
   "cell_type": "markdown",
   "metadata": {},
   "source": [
    "### Assignment:\n",
    "Find the ten most frequent words and their frequency.\n",
    "\n",
    "### Hints:\n",
    "1. The corpus contains upper- and lower-case characters and some punctuation. For better results you should make them all the same case and remove the punctuation (.replace(), .upper(), .lower())\n",
    "2. The corpus is one giant string. You can split it into words using the .split() function.\n",
    "3. Using a set, you can find the unique items in a list. We can iterate over a list and count the occurrences of each unique word in the original list of words. For this, the list has the .count() method. Populate the results into a new dictionary which uses the word as a key and the frequency as a value.\n",
    "4. We do not have to count each word. For better results, we should exclude words that are in the stopwords set.\n",
    "5. If you have the dictionary of word frequencies, use the provided function to get a sorted list of tuples and print the top ten entries.\n",
    "\n",
    "I have posted the solution on my [Github](https://gist.github.com/dennisbakhuis/815656a9d197bda4893c61b856310093)."
   ]
  },
  {
   "cell_type": "markdown",
   "metadata": {},
   "source": [
    "If you have any questions, feel free to contact me through [LinkedIn](https://www.linkedin.com/in/dennisbakhuis/)."
   ]
  },
  {
   "cell_type": "code",
   "execution_count": null,
   "metadata": {},
   "outputs": [],
   "source": []
  }
 ],
 "metadata": {
  "kernelspec": {
   "display_name": "Python 3",
   "language": "python",
   "name": "python3"
  },
  "language_info": {
   "codemirror_mode": {
    "name": "ipython",
    "version": 3
   },
   "file_extension": ".py",
   "mimetype": "text/x-python",
   "name": "python",
   "nbconvert_exporter": "python",
   "pygments_lexer": "ipython3",
   "version": "3.7.7"
  }
 },
 "nbformat": 4,
 "nbformat_minor": 4
}
