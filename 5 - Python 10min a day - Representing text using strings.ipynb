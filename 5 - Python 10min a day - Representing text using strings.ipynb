{
 "cells": [
  {
   "cell_type": "markdown",
   "metadata": {},
   "source": [
    "<img src=\"assets/jeremy-lapak-CVvFVQ_-oUg-unsplash.png\" alt=\"Python Envs\" style=\"display: block; margin: 0 auto\" />"
   ]
  },
  {
   "cell_type": "markdown",
   "metadata": {},
   "source": [
    "# Learning Python 10 minutes a day #5\n",
    "## Representing text using strings\n",
    "[Medium article link](https://towardsdatascience.com/learning-python-10-minutes-a-day-5-9e012c6920e0)"
   ]
  },
  {
   "cell_type": "markdown",
   "metadata": {},
   "source": [
    "This is a [series](https://towardsdatascience.com/tagged/10minutespython) of short 10 minute Python articles helping you to get started with Python. I try to post an article each day (no promises), starting from the very basics, going up to more complex idioms. Feel free to contact me on [LinkedIn](https://www.linkedin.com/in/dennisbakhuis/) for questions or requests on particular subjects of Python, you want to know about."
   ]
  },
  {
   "cell_type": "markdown",
   "metadata": {},
   "source": [
    "In the first session we already saw the built-in “print” function which can print text, numbers, actually anything really, to the screen. To call a function, we need to type its name (print in this case), followed by a set of parenthesis. In-between the parenthesis, the parameters of the function is passed. The built-in function does not need any parameters and can be called using: “print()” to print an empty line to the screen. We have passed it a parameter, which was the short sentence ‘hello world’. This parameter is an object of type “str”, which is a String in Python. Feel free to check the DocString of the built-in print function using the ‘?’ we have learned before."
   ]
  },
  {
   "cell_type": "markdown",
   "metadata": {},
   "source": [
    "A string can be assigned using single quotes, double quotes, or as its multi-line variant indicated by three times a quote symbol. This last method we already saw when creating DocStrings:"
   ]
  },
  {
   "cell_type": "code",
   "execution_count": null,
   "metadata": {},
   "outputs": [],
   "source": [
    "# Both, single and double quotes are fine to assign strings\n",
    "my_name = 'Dennis Bakhuis'\n",
    "course_name = \"Variables: representing text using strings\"\n",
    "\n",
    "# Use, the other type if you want to include quotes in a string\n",
    "nice_day = \"it's a beautiful day!\"\n",
    "quote = 'and he said:\"give me some cake!\"'\n",
    "\n",
    "# or you escape characters using \\\n",
    "i_like_single_qoutes = 'he\\'s a great guy'\n",
    "\n",
    "# Multi-line strings start with three times the quote symbol\n",
    "multi_line_string = '''\n",
    "this is a\n",
    "multi-line string'''\n",
    "another_multi_line_string = \"\"\"hello\n",
    "everybody\"\"\"\n",
    "\n",
    "print(multi_line_string)"
   ]
  },
  {
   "cell_type": "markdown",
   "metadata": {},
   "source": [
    "The variable name can be anything, except the keywords like “is” or “not”. The function “print” is not one of those keywords but a standard function and technically, you could overwrite this function with a new variable. Everything in Python is represented by object and a variable is simply a label. By declaring a string with name “print”, the label now points to your newly created string and this is completely valid in Python. Of course, this is probably not something you want so be careful with this. When choosing a name, try to make it short but concise, all lower case and words separated by an underscores. While it is not mandatory to define your variables like this, it is a standard, documented in the famous [pep8](https://www.python.org/dev/peps/pep-0008/) (Python Enhancement Proposal #8). There are many pep documents, but the pep8 is a style-guide which helps improve readability. The document is much too long to remember and therefore, there are helpers to help you style your code such as [Black](https://github.com/psf/black) or [Flake8](https://flake8.pycqa.org/en/latest/), but we will look into those at a later stage. As these auto-formatters cannot help you with variable names, just try to use the proposed convention. It will help you make your code readable."
   ]
  },
  {
   "cell_type": "markdown",
   "metadata": {},
   "source": [
    "From the documentation: Strings are immutable sequences of Unicode code points. This means that a string is a sequence of characters, and as it is immutable, after assignment cannot change. The term immutable has confused me when I started learning Python. Why would we want to have a string, which cannot be changed after definition. What they mean with immutable is that if we do an operation on a string, the original string is not changed, but a new string is created from the result. If you would put the result into the original variable (with the same name, i.e. reference), you overwrite the reference to the old object en the variable is pointing to your new result. If the original object is not referenced by any other variable, Python uses its garbage collector to delete the string from memory."
   ]
  },
  {
   "cell_type": "markdown",
   "metadata": {},
   "source": [
    "There are quite some operations which can be performed on strings. One of the most common operations is concatenating strings and this is done as if we add two numbers (using the ‘+’ operator). While a bit less common, you can also multiply strings using the ‘*’ operator, to create a new string from a multiple of original string. I guess the use is very specific."
   ]
  },
  {
   "cell_type": "markdown",
   "metadata": {},
   "source": [
    "As it is a sequence of characters, it has a sequence length. To get the length, there is the built-in “len” function. Another property of a sequence is that we can iterate over the characters very easily. We have not yet discussed for-loops, but the syntax is very readable, so I am pretty sure you will get the next example."
   ]
  },
  {
   "cell_type": "code",
   "execution_count": null,
   "metadata": {},
   "outputs": [],
   "source": [
    "# sequences are glued together\n",
    "a = \"hello\"\n",
    "b = \" \"\n",
    "c = \"world\"\n",
    "d = a + b + c\n",
    "print(d)\n",
    "print('hello! ' * 5)\n",
    "\n",
    "# we can get the length of the string\n",
    "len(d)  # can you guess the type it returns?\n",
    "\n",
    "# to iterate over each letter, we simply do a for-loop:\n",
    "for char in d:\n",
    "    print(char)"
   ]
  },
  {
   "cell_type": "markdown",
   "metadata": {},
   "source": [
    "Everything in Python is an object and therefore, each object is packed with relevant methods. The str class has many methods to choose from, which I generally forget and have to Google. In Jupyter or IPython, you can type the name of the variable with a dot and then press <tab> for suggestions."
   ]
  },
  {
   "cell_type": "markdown",
   "metadata": {},
   "source": [
    "<img src=\"assets/day5-tab.png\" alt=\"Python Envs\"  width=\"600\" style=\"display: block; margin: 0 auto\" />\n",
    "\n",
    "*Tab-completions is everybody’s friend!*\n"
   ]
  },
  {
   "cell_type": "markdown",
   "metadata": {},
   "source": [
    "Most of these methods have quite self-explanatory names such as “lower”, “upper”, and “isdigit”. Others may need some explanation and we can always have a look a the DocString. Methods that I use quite often are .split(), .replace(), and .join(). As these methods return a new string, you can chain multiple commands. So it is very valid to do my_string.lower().split() and longer chains are even possible. Just keep readability in mind when creating chains."
   ]
  },
  {
   "cell_type": "markdown",
   "metadata": {},
   "source": [
    "Another technique that is possible on strings (because they are sequences) is slicing. While slicing a string has maybe very specific use-cases, the procedure is identical to other sequence-like data types. With slicing, you can select the iᵗʰ element of a sequence, by indicating its sequential number between square brackets. Python counts from zero, so the first element is indicated as “my_string[0]”. You can also select an element, counting from the back using negative numbers. The last element of a string is “my_string[-1]”. If you want to select multiple characters, you can use a range which is constructed as [start : end : step]. In Python ranges are including the “start” element but not including the “end” element. The step indicates how many character you skip. If you set step to 1, all characters are selected, if step is 2, each second character is skipped. It is not necessary to provide all (start, end, step). If no step is provided, the default of 1 is used. Only providing an end, so having no value before the semicolon, means everything up to end (but not including). Here are a couple of examples:"
   ]
  },
  {
   "cell_type": "code",
   "execution_count": null,
   "metadata": {},
   "outputs": [],
   "source": [
    "dirty_string = '  WhAt iS hApPenIng?  '\n",
    "clean_string = dirty_string.strip().lower()\n",
    "print(clean_string)\n",
    "\n",
    "# Select a specific indec\n",
    "abc = 'abcdefghijklmnopqrstuvwxyz'\n",
    "print('The third letter:', abc[2])\n",
    "\n",
    "# Slicing is great and is used regularly in Python\n",
    "a = 'This is a string called \"a\". '\n",
    "print(a[0:4])   # Select 'This'\n",
    "print(a[:4])    # likewise\n",
    "print(a[4:])    # Select all but 'This'\n",
    "print(a[-5:-2]) # select \"a\" backwards\n",
    "\n",
    "# Using step parameter\n",
    "print('abababababa'[1::2])  # Select all b's\n",
    "print('abababababa'[0::2])  # Select all a's\n",
    "\n",
    "# Indices that are out of range\n",
    "empty_string = a[5:4]                  # it should be a positive range, or a negative step\n",
    "print('empty_string:', empty_string)   \n",
    "same_as_a = a[0:9999]                  # the 'end' parameter may be out of bounds\n",
    "print('same_as_a:', same_as_a)\n",
    "\n",
    "this_would_raise_an_IndexError = a[999]  # the 'start' parameter may not!"
   ]
  },
  {
   "cell_type": "markdown",
   "metadata": {},
   "source": [
    "An important topic is the formatting of strings, i.e. creating strings which have show dynamic content in variables. In the past years, the way to do this has changed a couple of times. First, there was the percent operator, which worked, but was not great. Later, the .format() method was added to strings to give much more flexibility. Since Python3.6, f-strings are available and these add even more flexibility. f-strings are a special type of strings, indicated by the ‘f’ before the string. In my opinion, f-strings are also more readable then the .format() method, therefore, I advice to use f-strings if you can. The formatting options are not only limited to showing the variable itself, but can also add padding, number precision, types, and much more. Here is a great [cheat sheet](https://myshell.co.uk/blog/2018/11/python-f-string-formatting-cheatsheet/)."
   ]
  },
  {
   "cell_type": "code",
   "execution_count": null,
   "metadata": {},
   "outputs": [],
   "source": [
    "a_string = 'probably'\n",
    "b_string = 'way'\n",
    "\n",
    "# The old way of formatting strings\n",
    "print('this is %s a great %s' % (a_string, b_string))\n",
    "\n",
    "# An improved way using .format()\n",
    "print('this is {} a great {}'.format(a_string, b_string))\n",
    "\n",
    "# The f-string way:\n",
    "print(f'this is {a_string} a great {b_string}')\n",
    "\n",
    "# formatting text with padding/size\n",
    "# the ^ operator centers the text within the size given\n",
    "# the > adds padding to the left to make the string the size given\n",
    "print(f'this is {a_string:^12} a great {b_string:>10}')\n",
    "\n",
    "# precision is sometimes easier than rounding\n",
    "value = 1.128456\n",
    "print(f'Some value: {value:.2f}')\n",
    "\n",
    "# and formatting knows about percentages\n",
    "percent = 0.84\n",
    "print(f'Percentage: {percent:%}')\n",
    "print(f'Percentage: {percent:.2%}')"
   ]
  },
  {
   "cell_type": "markdown",
   "metadata": {},
   "source": [
    "There are many specifics about strings and my general advice is to look into those when you require them. With time, you might even remember a couple ;-)."
   ]
  },
  {
   "cell_type": "markdown",
   "metadata": {},
   "source": [
    "## Practice for today:\n",
    "1. In a new Notebook, assign various strings.\n",
    "2. Change the following string: “My name is Jimmy and I am 100 years old” using methods, to have your name and age. (hint: replace())\n",
    "3. Slice and combine ‘I am happy’ from the following strings:\\\n",
    "    `c, d = ‘I am sad’, ‘I wish I was happy’`\n",
    "4. Play around with a couple of f-strings, e.g. show values with various precision and create a percentage without decimals."
   ]
  },
  {
   "cell_type": "markdown",
   "metadata": {},
   "source": [
    "If you have any questions, feel free to contact me through [LinkedIn](https://www.linkedin.com/in/dennisbakhuis/)."
   ]
  },
  {
   "cell_type": "code",
   "execution_count": null,
   "metadata": {},
   "outputs": [],
   "source": []
  }
 ],
 "metadata": {
  "kernelspec": {
   "display_name": "Python 3",
   "language": "python",
   "name": "python3"
  },
  "language_info": {
   "codemirror_mode": {
    "name": "ipython",
    "version": 3
   },
   "file_extension": ".py",
   "mimetype": "text/x-python",
   "name": "python",
   "nbconvert_exporter": "python",
   "pygments_lexer": "ipython3",
   "version": "3.7.7"
  }
 },
 "nbformat": 4,
 "nbformat_minor": 4
}
