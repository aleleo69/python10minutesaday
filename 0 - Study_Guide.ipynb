{
 "cells": [
  {
   "cell_type": "markdown",
   "metadata": {},
   "source": [
    "<img src=\"assets/study-guide-header.png\" alt=\"Python Envs\" style=\"display: block; margin: 0 auto\" />"
   ]
  },
  {
   "cell_type": "markdown",
   "metadata": {},
   "source": [
    "# Master Python in 10 minutes a day\n",
    "## A complete course to get you up and running with Python\n",
    "[Medium article link](https://towardsdatascience.com/learning-python-10-minutes-a-day-1-7fda6662276)"
   ]
  },
  {
   "cell_type": "markdown",
   "metadata": {},
   "source": [
    "This is a series of short 10 minute Python articles helping you to get started with Python. There are in total 25 lectures, starting from the very basics, going up to more complex idioms. Feel free to contact me on LinkedIn for questions."
   ]
  },
  {
   "cell_type": "markdown",
   "metadata": {},
   "source": [
    "This is a sort of study guide which aims to create a plan through all the lectures. The lectures itself can be read within 10 minutes, however it is also important to do some hands-on practice. Depending on the lecture itself and your previous experience, these can also take a bit of  time. While it can be tempting to do many lectures in one day, I think it is best to do them on a daily basis. In my experience, this helps to process each part a bit better. I also think that everybody deserves a weekend, so only five days a week. Of course, no one is stopping you from doing more than one a day."
   ]
  },
  {
   "cell_type": "markdown",
   "metadata": {},
   "source": [
    "# [https://python-10-minutes-a-day.rocks](https://python-10-minutes-a-day.rocks)"
   ]
  },
  {
   "cell_type": "markdown",
   "metadata": {},
   "source": [
    "<img src=\"assets/tracker.png\" alt=\"Python Envs\" style=\"display: block; margin: 0 auto\" />"
   ]
  },
  {
   "cell_type": "markdown",
   "metadata": {},
   "source": [
    "To make the experience as smooth as possible, I have created an [online progress tracker](https://python-10-minutes-a-day.rocks). The progress tracker gives an overview on you progress and how many lectures are left. It also contains links to all the Medium posts and includes links to the Jupyter Notebook versions. While both versions contain the same information, the layout and experience is better using the Medium articles. The benefit of the progress tracker is that, as the name reveals, you can track your progress. When you finish an article, click the checkbox to strike the finished lecture out. The progress is stored in a local cookie and the next time you visit the website the current progress is restored. Just make sure that you keep the cookie, i.e. by turning off the cookie-auto-delete plugin in your browser for that website. While it is mostly a static website, I still have used Python to create it (for fun). The complete web-app, including a Dockerfile is [published on my Github](https://github.com/dennisbakhuis/progresstracker)."
   ]
  },
  {
   "cell_type": "markdown",
   "metadata": {},
   "source": [
    "## The first week\n",
    "The first week, we already break our rule of one lecture a day, at least if you do not yet know how to organize virtual environments. Still, I think it is very important to have a fixed method to organize virtual environments as they can get messy. The first five actual lectures explain what Python is and how it can be used. We talk about commenting and explain why it is not boring but almost crucial. The last two lectures are on numerical variables and strings. Definitely a fun week!"
   ]
  },
  {
   "cell_type": "markdown",
   "metadata": {},
   "source": [
    "### Lectures:\n",
    "0. [Environments, Conda, Pip, aaaaah!](https://github.com/dennisbakhuis/Tutorials/blob/master/Python_Conda_Pip_Environments/Python_Env_Conda_Pip_Jupyter.ipynb)\n",
    "1. [What are Python, IPython, and Jupyter lab?](https://github.com/dennisbakhuis/python10minutesaday/blob/master/1%20-%20Python%2010min%20a%20day%20-%20What%20are%20Python%2C%20IPython%2C%20and%20Jupyter%20lab%3F.ipynb)\n",
    "2. [Using Jupyter Lab and navigating notebooks](https://github.com/dennisbakhuis/python10minutesaday/blob/master/2%20-%20Python%2010min%20a%20day%20-%20Using%20Jupyter%20Lab%20and%20navigating%20notebooks.ipynb)\n",
    "3. [Commenting - what Python ignores is useful for you!](https://github.com/dennisbakhuis/python10minutesaday/blob/master/3%20-%20Python%2010min%20a%20day%20-%20Commenting%20-%20what%20Python%20ignores%20is%20useful%20for%20you!.ipynb)\n",
    "4. [Numeric variables and how to assign them](https://github.com/dennisbakhuis/python10minutesaday/blob/master/4%20-%20Python%2010min%20a%20day%20-%20Numeric%20variables%20and%20how%20to%20assign%20them%20in%20Python.ipynb)\n",
    "5. [Representing text using strings](https://github.com/dennisbakhuis/python10minutesaday/blob/master/5%20-%20Python%2010min%20a%20day%20-%20Representing%20text%20using%20strings.ipynb)"
   ]
  },
  {
   "cell_type": "markdown",
   "metadata": {},
   "source": [
    "## The second week \n",
    "In the first week we build a foundation and played around with some variables. This week, we will introduce conditionals, looping, and functions and do some real programming. You will also learn one of the most versatile data structures: the list. At the end of this week you can use all these concepts to program your first solution: the quick-sort algorithm."
   ]
  },
  {
   "cell_type": "markdown",
   "metadata": {},
   "source": [
    "### Lectures:\n",
    "6. [Conditionals in Python: if, elif, and else structures](https://github.com/dennisbakhuis/python10minutesaday/blob/master/6%20-%20Python%2010min%20a%20day%20-%20Conditionals%20in%20Python%20-%20%20if%2C%20elif%2C%20and%20else%20structures.ipynb)\n",
    "7. [The most all-round data type in Python: the list](https://github.com/dennisbakhuis/python10minutesaday/blob/master/7%20-%20Python%2010min%20a%20day%20-%20The%20most%20all-round%20data%20type%20in%20Python%20-%20the%20list.ipynb)\n",
    "8. [Looping in Python: for a while](https://github.com/dennisbakhuis/python10minutesaday/blob/master/8%20-%20Python%2010min%20a%20day%20-%20Looping%20in%20Python%20-%20for%20a%20while.ipynb)\n",
    "9. [Defining functions and stop repeating yourself](https://github.com/dennisbakhuis/python10minutesaday/blob/master/9%20-%20Python%2010min%20a%20day%20-%20Defining%20functions%20and%20stop%20repeating%20yourself.ipynb)\n",
    "10. [Testing you new skills: code a quick-sort algorithm](https://github.com/dennisbakhuis/python10minutesaday/blob/master/10%20-%20Python%2010min%20a%20day%20-%20Testing%20your%20new%20skills%20-%20code%20a%20quick-sort%20algorithm.ipynb)\n"
   ]
  },
  {
   "cell_type": "markdown",
   "metadata": {},
   "source": [
    "## The third week\n",
    "In the third week we will start with some intermediate concepts such as Try/Except and we will learn about three new data structures: dictionaries, tuples, and sets. A very common task is working with files and file-systems. This week, we will see a couple of ways to tackle these problems."
   ]
  },
  {
   "cell_type": "markdown",
   "metadata": {},
   "source": [
    "### Lectures:\n",
    "11. [Reading and writing files in Python](https://github.com/dennisbakhuis/python10minutesaday/blob/master/11%20-%20Python%2010min%20a%20day%20-%20Reading%20and%20writing%20files%20in%20Python.ipynb)\n",
    "12. [Try, except, finally, and context managers](https://github.com/dennisbakhuis/python10minutesaday/blob/master/12%20-%20Python%2010min%20a%20day%20-%20Try%20except%20finally%20and%20context%20managers.ipynb)\n",
    "13. [Dictionaries - key value stores](https://github.com/dennisbakhuis/python10minutesaday/blob/master/13%20-%20Python%2010min%20a%20day%20-%20Dictionaries%20-%20key%20value%20stores.ipynb)\n",
    "14. [Tuples and sets](https://github.com/dennisbakhuis/python10minutesaday/blob/master/14%20-%20Python%2010min%20a%20day%20-%20Tuples%20and%20sets.ipynb)\n",
    "15. [Working with files and paths in Python](https://github.com/dennisbakhuis/python10minutesaday/blob/master/15%20-%20Python%2010min%20a%20day%20-%20Working%20with%20files%20and%20paths%20in%20Python.ipynb)"
   ]
  },
  {
   "cell_type": "markdown",
   "metadata": {},
   "source": [
    "## The fourth week\n",
    "This week gives on insight on how the import system of Python works and what's the difference between modules, packages, libraries, and frameworks. We also introduce some advanced cool stuff such as list comprehensions and generators. After reading some errors, there is another sorting algorithm assignment. Big fun!"
   ]
  },
  {
   "cell_type": "markdown",
   "metadata": {},
   "source": [
    "### Lectures:\n",
    "16. [Imports, modules, packages, libraries, and frameworks](https://github.com/dennisbakhuis/python10minutesaday/blob/master/16%20-%20Python%2010min%20a%20day%20-%20Imports%20modules%20packages%20libraries%20and%20frameworks.ipynb)\n",
    "17. [List comprehensions and map: an amazing shortcut](https://github.com/dennisbakhuis/python10minutesaday/blob/master/17%20-%20Python%2010min%20a%20day%20-%20List%20comprehensions%20and%20map%20-%20an%20amazing%20shortcut.ipynb)\n",
    "18. [A bit more on generators and how to create them](https://github.com/dennisbakhuis/python10minutesaday/blob/master/18%20-%20Python%2010min%20a%20day%20-%20A%20bit%20more%20on%20generators%20and%20how%20to%20create%20them.ipynb)\n",
    "19. [Reading errors and exceptions in Python](https://github.com/dennisbakhuis/python10minutesaday/blob/master/19%20-%20Python%2010min%20a%20day%20-%20Reading%20errors%20and%20exceptions%20in%20Python.ipynb)\n",
    "20. [Lets get the sorting sorted](https://github.com/dennisbakhuis/python10minutesaday/blob/master/20%20-%20Python%2010min%20a%20day%20-%20Lets%20get%20the%20sorting%20sorted.ipynb)"
   ]
  },
  {
   "cell_type": "markdown",
   "metadata": {},
   "source": [
    "## The final week\n",
    "This is already the final week. Here we discuss some concepts that are less common but definitely useful: lambda functions and decorators. Until now, we only did functional programming. Object oriented programming is another way to address coding problems. There are two lectures on how Python handles this paradigm way of programming. The final lecture, we are going to generate our certificate. If you liked the course, please share it on your LinkedIn and tag me in it. With this, I have some idea on who stayed till the end. Of course, I will congratulate you on your achievement!"
   ]
  },
  {
   "cell_type": "markdown",
   "metadata": {},
   "source": [
    "### Lectures:\n",
    "21. [Nameless functions a.k.a. lambda functions](https://github.com/dennisbakhuis/python10minutesaday/blob/master/21%20-%20Python%2010min%20a%20day%20-%20Nameless%20functions%20a.k.a.%20lambda%20functions.ipynb)\n",
    "22. [In Python we decorate functions to make them better](https://github.com/dennisbakhuis/python10minutesaday/blob/master/22%20-%20Python%2010min%20a%20day%20-%20In%20Python%20we%20decorate%20functions%20to%20make%20them%C2%A0better.ipynb)\n",
    "23. [A whole new class of programming](https://github.com/dennisbakhuis/python10minutesaday/blob/master/23%20-%20Python%2010min%20a%20day%20-%20A%20whole%20new%20class%20of%20programming.ipynb)\n",
    "24. [Parents, children, and inheritance](https://github.com/dennisbakhuis/python10minutesaday/blob/master/24%20-%20Python%2010min%20a%20day%20-%20Parents%20children%20and%20inheritance.ipynb)\n",
    "25. [A well-earned self-generated certificate](https://github.com/dennisbakhuis/python10minutesaday/blob/master/25%20-%20Python%2010min%20a%20day%20-%20Final%20episode.ipynb)"
   ]
  },
  {
   "cell_type": "markdown",
   "metadata": {},
   "source": [
    "<img src=\"assets/certificate.png\" alt=\"Python Envs\" style=\"display: block; margin: 0 auto\" />"
   ]
  },
  {
   "cell_type": "markdown",
   "metadata": {},
   "source": [
    "## Final thoughts\n",
    "In the last lecture we discussed the next steps in your Data Science career, definitely read that part when you have mastered Python. We have discussed all imported concepts of Python and I am convinced that you will handle any problems regarding Python (maybe with some additional Google-ing)."
   ]
  },
  {
   "cell_type": "markdown",
   "metadata": {},
   "source": [
    "This concludes this course. If you liked the course, I would be very happy if you shared the hard-earned self-generated certificate on LinkedIn and tagged me along with it. It gives me an idea on who actually did the course and of course, I will congratulate you on your achievement."
   ]
  },
  {
   "cell_type": "markdown",
   "metadata": {},
   "source": [
    "All the best and as always, if you have any questions, comments, or requests, feel free to [contact me on LinkedIn](https://www.linkedin.com/in/dennisbakhuis/)."
   ]
  },
  {
   "cell_type": "code",
   "execution_count": null,
   "metadata": {},
   "outputs": [],
   "source": []
  }
 ],
 "metadata": {
  "kernelspec": {
   "display_name": "Python 3",
   "language": "python",
   "name": "python3"
  },
  "language_info": {
   "codemirror_mode": {
    "name": "ipython",
    "version": 3
   },
   "file_extension": ".py",
   "mimetype": "text/x-python",
   "name": "python",
   "nbconvert_exporter": "python",
   "pygments_lexer": "ipython3",
   "version": "3.7.7"
  }
 },
 "nbformat": 4,
 "nbformat_minor": 4
}
