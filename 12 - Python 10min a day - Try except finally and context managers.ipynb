{
 "cells": [
  {
   "cell_type": "markdown",
   "metadata": {},
   "source": [
    "<img src=\"assets/jeremy-lapak-CVvFVQ_-oUg-unsplash.png\" alt=\"Python Envs\" style=\"display: block; margin: 0 auto\" />"
   ]
  },
  {
   "cell_type": "markdown",
   "metadata": {},
   "source": [
    "# Learning Python 10 minutes a day #12\n",
    "## Try, except, finally, and context managers\n",
    "[Medium article link](https://towardsdatascience.com/learning-python-10-minutes-a-day-12-44806ea44852)"
   ]
  },
  {
   "cell_type": "markdown",
   "metadata": {},
   "source": [
    "This is a [series](https://towardsdatascience.com/tagged/10minutespython) of short 10 minute Python articles helping you to get started with Python. I try to post an article each day (no promises), starting from the very basics, going up to more complex idioms. Feel free to contact me on [LinkedIn](https://www.linkedin.com/in/dennisbakhuis/) for questions or requests on particular subjects of Python, you want to know about."
   ]
  },
  {
   "cell_type": "markdown",
   "metadata": {},
   "source": [
    "When you write code in Python, you will (most probably) make mistakes. Some lead to syntax errors, which are errors because you most probably misspelled some word which results in invalid Python code. These mistakes are not to difficult to fix. The other type of error in Python are exceptions. These are errors which are totally fine when translating your Python code to byte code (no syntax errors), but when trying to execute something, there is something invalid. For example, you cannot divide a string by pi. It does not really makes sense to us and also Python does not know what to do and Raises an Exception. Some of these exceptions are quite clear. For example, opening a file for reading which does not exist, raises the FileNotFound exception. Not all exceptions are that clear or even your fault. For example, trying to contact a restAPI that is down can also result in an Exception. Of course it is best to try to avoid all errors and exceptions, however one idiom in Python has always amazed me:\n",
    "\n",
    "*It is easier to ask for forgiveness than permission (EAFP)*"
   ]
  },
  {
   "cell_type": "markdown",
   "metadata": {},
   "source": [
    "<img src=\"assets/day12-eafp.jpeg\" alt=\"Python Envs\"  width=\"600\" style=\"display: block; margin: 0 auto\" />"
   ]
  },
  {
   "cell_type": "markdown",
   "metadata": {},
   "source": [
    "Python has a structure to catch exceptions, namely the try/except block. As the name implies, it will try to perform all statements in the try block. If it is successful, all is done. If for any reason an exception is raised, it will execute the except block, and all errors are suppressed. While we can discuss if this is a nice way of programming, it is a very effective one, as it is much faster than trying to check for all possible errors first. The try-except block can check for many specific exceptions by providing the exception type, or catch any exception by leaving the exception type empty. An exception is actually an object of type Exception (are you surprised?). Lets start with an example on how to use this construct."
   ]
  },
  {
   "cell_type": "code",
   "execution_count": null,
   "metadata": {},
   "outputs": [],
   "source": [
    "def divide(number1, number2):\n",
    "    \"\"\"\n",
    "    Divide number1 by number 2\n",
    "    \"\"\"\n",
    "    result = number1 / number2\n",
    "    return result\n",
    "\n",
    "divide(5, 0)  # this will fail\n",
    "\n",
    "\n",
    "def secure_divide(number1, number2):\n",
    "    \"\"\"\n",
    "    Divide number1 by number 2\n",
    "    \"\"\"\n",
    "    result = 0\n",
    "    try:\n",
    "        # bla  # uncomment this line to get into the other exception (bla is a undefined variable)\n",
    "        result = number1 / number2\n",
    "    except ZeroDivisionError:\n",
    "        print(' -> divided by 0!!')\n",
    "    except:\n",
    "        print(' -> something else went wrong!!')\n",
    "    return result\n",
    "\n",
    "secure_divide(5, 0)  # this will fail"
   ]
  },
  {
   "cell_type": "markdown",
   "metadata": {},
   "source": [
    "In the example we have a valid function to divide two numbers. This will work fine, except if you have the second number equal to zero. We have all heard that dividing be zero is undefined, you cannot divide five cookies among zero friends as we have learned from Siri. As the code above demonstrates, dividing by zero results in a ZeroDivisionError:"
   ]
  },
  {
   "cell_type": "markdown",
   "metadata": {},
   "source": [
    "<img src=\"assets/day12-error.png\" alt=\"Python Envs\"  width=\"600\" style=\"display: block; margin: 0 auto\" />"
   ]
  },
  {
   "cell_type": "markdown",
   "metadata": {},
   "source": [
    "The ZeroDivisionError is an object and using the try-except construct we can Catch the error and stop our script from crashing. In the example we have created the secure_divide which will try to divide the value. In the first except statement, we will specifically catch the ZeroDivisionError. If we divide by zero, Python will end up executing the statements in this block. Would there be another problem, for example if we reference a variable that does not exist, it will end up in the second except block, which catches all (other) exceptions. We can test for as many exceptions as we require, or just catch them all, without providing the exception."
   ]
  },
  {
   "cell_type": "markdown",
   "metadata": {},
   "source": [
    "If you see an error (or exception), I find it easiest to read the error from bottom to top. The last line shows the Exception and a very short description of the error. Then, the error messages shows code blocks around a line with an error in front. The line with the error shows in which line the error has happened. If the error happened in a function, each code section above is a level higher, until the first block is the top level of the code. This can be confusing sometimes as parts of these code blocks are from imported libraries, i.e. code that you have not created. The trick is to ignore these and move higher until you are at the level of your own code. While the error could technically be in a package, it is far more common that we used the code wrong and inputted the wrong parameters in the imported function."
   ]
  },
  {
   "cell_type": "markdown",
   "metadata": {},
   "source": [
    "The try-except construct is a great method for specific cases, but I would advice to use it at a minimum. One thing that is however very useful is the try-(except)-finally construct. The except is between parenthesis as it is optional. A short example:"
   ]
  },
  {
   "cell_type": "code",
   "execution_count": null,
   "metadata": {},
   "outputs": [],
   "source": [
    "# without an except\n",
    "try:\n",
    "    5 / 2\n",
    "finally:\n",
    "    print('done')\n",
    " \n",
    "\n",
    "# or including an except statement\n",
    "try:\n",
    "    5 / 0\n",
    "except:\n",
    "    print('oops')\n",
    "finally:\n",
    "    print('done')"
   ]
  },
  {
   "cell_type": "markdown",
   "metadata": {},
   "source": [
    "In this example, the first code snippet shows the try-finally construct. It will try to execute all the code in the try-block and regardless if the code is successful or failed, it will always execute the part in the finally block. This is demonstrated in the second part in which we on purpose make the try block fail. In both cases, the ‘done’ string is printed."
   ]
  },
  {
   "cell_type": "markdown",
   "metadata": {},
   "source": [
    "The try-finally construct is extremely useful and is used a lot in Python, but maybe not directly visible. For example, when working with files, we have to make sure that we close the file after we are done. This can be done with a try-finally construct:"
   ]
  },
  {
   "cell_type": "code",
   "execution_count": null,
   "metadata": {},
   "outputs": [],
   "source": [
    "# To make sure a file is closed, we can use the try-finally construct\n",
    "try:\n",
    "    f = open('wine_countries.txt')\n",
    "    lines = f.readlines()\n",
    "finally:\n",
    "    f.close()\n",
    "    \n",
    "\n",
    "# To make it more readable, Python has the try-finally merged as the with keyword:\n",
    "with open('wine_countries.txt') as f:\n",
    "    lines = f.readlines()"
   ]
  },
  {
   "cell_type": "markdown",
   "metadata": {},
   "source": [
    "The try-finally always makes sure that the file is closed, regardless of success or failure. This was such a great concept, that Guido decided to create a special construct to make it more compact (and not have one ore more finally-clauses dangling on the bottom of the script), namely the with keyword. The with keyword opens (or connects, or …) an object and connects it to an identifier. In the next indented code-block, the variable is available and we can perform as many statements as we like. When we exit the code-block, or when an error occurs, the file (or connection, or …) is closed, identical to our previously created try-finally construct (just in a shorter fashion). This syntax in Python is called a context manager and is not only available for files. It is also used regularly together with for example databases. Changes to databases are often collected until you commit them. A context manager can make sure that these lines are committed and the database connection is closed normally, regardless of errors. Try to remember, that a context manager (using the with keyword) makes sure that a final part of code is always executed at the end of the code section. The easiest way to remember is the open file + close file example."
   ]
  },
  {
   "cell_type": "markdown",
   "metadata": {},
   "source": [
    "## Practice for today:\n",
    "In Python, the easiest way to get interactive user input is by using the input() function. The user can type a value and press enter to submit the value. The value is a string."
   ]
  },
  {
   "cell_type": "code",
   "execution_count": null,
   "metadata": {},
   "outputs": [],
   "source": [
    "input_value = input()  # this also works in a  Jupyter Notebook"
   ]
  },
  {
   "cell_type": "markdown",
   "metadata": {},
   "source": [
    "### Assignment:\n",
    "Ask the user for their age and test if it is less than 42. As the input value is a string you need to convert it to a integer. Use the EAFP principle to catch invalid input, i.e. if a user for example inputs a string instead of a number.\n"
   ]
  },
  {
   "cell_type": "markdown",
   "metadata": {},
   "source": [
    "If you have any questions, feel free to contact me through [LinkedIn](https://www.linkedin.com/in/dennisbakhuis/)."
   ]
  },
  {
   "cell_type": "code",
   "execution_count": null,
   "metadata": {},
   "outputs": [],
   "source": []
  }
 ],
 "metadata": {
  "kernelspec": {
   "display_name": "Python 3",
   "language": "python",
   "name": "python3"
  },
  "language_info": {
   "codemirror_mode": {
    "name": "ipython",
    "version": 3
   },
   "file_extension": ".py",
   "mimetype": "text/x-python",
   "name": "python",
   "nbconvert_exporter": "python",
   "pygments_lexer": "ipython3",
   "version": "3.7.7"
  }
 },
 "nbformat": 4,
 "nbformat_minor": 4
}
