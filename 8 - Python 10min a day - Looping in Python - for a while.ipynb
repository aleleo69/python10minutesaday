{
 "cells": [
  {
   "cell_type": "markdown",
   "metadata": {},
   "source": [
    "<img src=\"assets/jeremy-lapak-CVvFVQ_-oUg-unsplash.png\" alt=\"Python Envs\" style=\"display: block; margin: 0 auto\" />"
   ]
  },
  {
   "cell_type": "markdown",
   "metadata": {},
   "source": [
    "# Learning Python 10 minutes a day #8\n",
    "## Looping in Python: for a while\n",
    "[Medium article link](https://towardsdatascience.com/learning-python-10-minutes-a-day-8-5e835880f284)"
   ]
  },
  {
   "cell_type": "markdown",
   "metadata": {},
   "source": [
    "This is a [series](https://towardsdatascience.com/tagged/10minutespython) of short 10 minute Python articles helping you to get started with Python. I try to post an article each day (no promises), starting from the very basics, going up to more complex idioms. Feel free to contact me on [LinkedIn](https://www.linkedin.com/in/dennisbakhuis/) for questions or requests on particular subjects of Python, you want to know about."
   ]
  },
  {
   "cell_type": "markdown",
   "metadata": {},
   "source": [
    "Today we are going to discuss loops. There are two different types of loops, namely for-loops and while-loops. Both are heavy used in almost any programming language and of course for a reason. Repetition happens a lot in code. For example, you have a list of values and need to filter values that are below some threshold. One way to solve this problem is to iterate using a for-loop through all the values and test if the value is below the set threshold. Of course there are other ways to approach this problem."
   ]
  },
  {
   "cell_type": "markdown",
   "metadata": {},
   "source": [
    "Both the for-loop and the while-loop have different use cases. The for-loop is, as in the previous example, used to iterate over something. This can be a simple counter (a list of values), a list of strings, actually any object that is put into an iterable. So for-loops are to loop through a fixed list. A while-loop has a different purpose as it does not iterate through a list, but has a conditional that is tested before each iteration. If the condition is True, it will execute the code-block, and when the conditional is False, the while-loop is finished. A while-loop is used to continue iterating until for example a user presses a key or a certain precision has been achieved for a minimization process."
   ]
  },
  {
   "cell_type": "markdown",
   "metadata": {},
   "source": [
    "In many other languages it is common to create for-loops to have a counter, which is then used to iterate through a data structure. In Python you can directly iterate through an iterable such as a list. Let us have a look at some some examples:"
   ]
  },
  {
   "cell_type": "code",
   "execution_count": null,
   "metadata": {},
   "outputs": [],
   "source": [
    "fruit_basket = ['apples', 'bananas', 'pears']\n",
    "\n",
    "# the standard for-loop\n",
    "for fruit in fruit_basket:\n",
    "    print('The basket contains:', fruit)\n",
    "\n",
    "# There are a couple of useful list manipulations\n",
    "for fruit in reversed(fruit_basket):\n",
    "    print('The reversed basket contains:', fruit)\n",
    "\n",
    "# create a iterable from 0 to 9 (10 is not included)\n",
    "for number in range(10):\n",
    "    print(f'number {number}')\n",
    "\n",
    "# combining two (or more) lists using zip:\n",
    "persons = ['Alfred', 'Rob', 'Jeroen', 'Hendri', 'Coen', 'Dennis']\n",
    "cake_type = ['apple pie', 'tompouce', 'brownies', 'butterkuchen', 'carrot cake', 'bossche bollen']\n",
    "for person, cake in zip(persons, cake_type):\n",
    "    print(f'{person} likes {cake} a lot!')\n",
    "    \n",
    "# if a number is needed, add enumerate\n",
    "for ix, fruit in enumerate(fruit_basket):\n",
    "    print(f'The numbered basket contains: {fruit} ({ix + 1})')\n",
    "    \n",
    "# enumerate is the same as zipping a range with the length of the iterable\n",
    "for ix, fruit in zip(range(len(fruit_basket)), fruit_basket):\n",
    "    print(f'The numbered basket contains: {fruit} ({ix + 1})')"
   ]
  },
  {
   "cell_type": "markdown",
   "metadata": {},
   "source": [
    "A for-loop starts with the for keyword followed by a variable name. This variable name will be used to reference the current item of the list. As Python is dynamically typed, you do not have to bother with assigning a type. This will be set by the Python interpreter dynamically. After the variable name comes the keyword in followed by the iterable and a semicolon. Similar to if-statements, the code in the loop is identified by indentation. The indentation, together with clear semantics, makes these loops extremely readable."
   ]
  },
  {
   "cell_type": "markdown",
   "metadata": {},
   "source": [
    "Python comes already packed with quite some handy tools to manipulate lists. For example to reverse a list, you can use the built-in reversed() method. These types of methods take an iterable (such as a list) and return a new iterable with the applied manipulation. Some of these methods such as reversed() are also built into the list class itself (my_list.reverse()). The difference is however that those methods change the list itself (because lists are mutable), and do not return a new list."
   ]
  },
  {
   "cell_type": "markdown",
   "metadata": {},
   "source": [
    "Sometimes, you need to have a counter or index when iterating. For that special case, Python comes with enumerate, which ‘zips’ your list with sequentially increasing numbers. Zip can combine a multiple lists to a single iterable that can be unpacked in a loop. Of course, all lists have to be of the same length, or you will get an error."
   ]
  },
  {
   "cell_type": "markdown",
   "metadata": {},
   "source": [
    "The range() method is used to create a list of numbers. It accepts one or two boundary values and a step. Range() returns a special type of iterable, which is a range object ([it is not a generator](https://treyhunner.com/2018/02/python-range-is-not-an-iterator/)). In our previous examples, we supplied a list to the for-loop. This list is completely defined somewhere in memory and waiting to be referenced by the for-loop. If we would do the same with a large range of numbers, we first need to create this list. This can take a large chunk of memory, especially when we are iterating over millions of values (range(1e12)). For such cases, Python has generators, which is a form of ‘lazy execution’. Only when the value is required, i.e. when the for-loop asked for it, it is generated. While range has some subtle differences with generators, the idea is somewhat similar: only get the value you need, when you need it, without creating the full list of numbers first."
   ]
  },
  {
   "cell_type": "markdown",
   "metadata": {},
   "source": [
    "Similar to if-statements, for-loops can also be nested. Of course, you need to make sure that the variable for both for-loops are unique. The second for-loop starts in the next indentation level and this increases with each additional for-loop. While Python is fine with you adding large amounts of nested for-loops, in general, three is generally a good maximum. If you end up using more, it is time to look into strategies reducing the amount of looping. Looping is slow and if you need lots of looping, vectorization is probably what you want."
   ]
  },
  {
   "cell_type": "code",
   "execution_count": null,
   "metadata": {},
   "outputs": [],
   "source": [
    "# continue goes on with the next iteration\n",
    "for number in range(1, 4):\n",
    "    for another_number in range(1, 4):\n",
    "        if number == another_number:\n",
    "            continue\n",
    "        print(f'{number} x {another_number} = {number * another_number}')\n",
    "\n",
    "# break stops the iteration, not doing an else\n",
    "for word in 'here are some words in a string'.split():\n",
    "    if word == 'in':\n",
    "        break\n",
    "    print(f'the word \"{word}\" has {len(word)} characters')\n",
    "else:\n",
    "    print('Iteration done!')\n",
    "    \n",
    "# else can be added as a final code-block if the loop was successful\n",
    "for word in 'more words here'.split():\n",
    "    print(f'the word \"{word}\" has {len(word)} characters')\n",
    "else:\n",
    "    print('Iteration done!')"
   ]
  },
  {
   "cell_type": "markdown",
   "metadata": {},
   "source": [
    "Both, the for-loop and the while-loop have break and continue keywords to have additional control on the looping flow. When issuing a break, the current loop is stopped, i.e. if you are in a for-loop, the looping is stopped. If you are in a nested for-loop, the current level of the for-loop is stopped. Using continue you can go to the next iteration, neglecting any statements after the continue keyword. These keywords give additional controls of the flow, but are for specific use-cases."
   ]
  },
  {
   "cell_type": "markdown",
   "metadata": {},
   "source": [
    "I have never used the for-else or while-else construct but it might have some use-cases. It is however quite easy to understand. If the for-loop or while-loop was successful, i.e. without breaks or errors, the code-block defined after the else is executed."
   ]
  },
  {
   "cell_type": "markdown",
   "metadata": {},
   "source": [
    "While-loops are the other construct of creating loops in Python. The while-loop tests a condition instead of looping through an iterable. A while-loop starts with the keyword while followed by the conditional and a semicolon."
   ]
  },
  {
   "cell_type": "code",
   "execution_count": null,
   "metadata": {},
   "outputs": [],
   "source": [
    "value = 1\n",
    "while value >= 0.5:\n",
    "    value -= 0.01  # short-hand notation of value = value - 1\n",
    "else:\n",
    "    print('final value is:', value)\n",
    "\n",
    "# a typical \"never-ending\" while-loop\n",
    "counter = 0\n",
    "while True:\n",
    "    counter += 1  # short-hand notation of value = value + 1\n",
    "    if counter > 10:\n",
    "        break\n",
    "print('counter is:', counter)"
   ]
  },
  {
   "cell_type": "markdown",
   "metadata": {},
   "source": [
    "A construct that you see commonly in Python-based restFul API servers is a never-ending while-loop. These loops, keep running forever (or until a user aborts the program (or an error occurs)), because the condition that is provided is the constant True. True, never changes to False, as it is the truest of True, and the while can only be stopped by the break keyword or divine intervention. The conditional in the while-loop is similar to the one in the if-statement. Therefore, you can combine multiple using the logical operators (and, not, or). Also, if you want to code the loop later, you can use the pass placeholder."
   ]
  },
  {
   "cell_type": "markdown",
   "metadata": {},
   "source": [
    "## Practice for today:\n",
    "1. In a new Notebook, and create a for-loop to loop over all values between 1 and 100 (including 100) and sum over all values. (should be 5050)\n",
    "2. Loop over the following list:\n",
    "\n",
    "```Python\n",
    "my_list = ['This', 'is', 'a', 'list', 'of', 'words', '!']\n",
    "```\n",
    "Join the list to create a string. hint: string has a join() method that excepts lists.\n",
    "\n",
    "3.  With the following list:\n",
    "\n",
    "```Python\n",
    "my_list = ['Alfred', 'Dennis', 'Rob', 'Coen', 'Coen', 'Alfred', 'Jeroen', 'Hendri', 'Alfred', 'Coen', 'Rob', 'Dennis', 'Rob', 'Dennis', 'Rob', 'Coen', 'Rob', 'Alfred', 'Jeroen', 'Hendri', 'Alfred', 'stop', 'Coen', 'Rob', 'Dennis', 'Dennis', 'Rob', 'Jeroen', 'Jeroen', 'Alfred', 'Jeroen', 'Hendri', 'Alfred', 'Coen', 'Rob', 'Dennis']\n",
    "```\n",
    "\n",
    "a) count all names\\\n",
    "b) count all names, but skip ‘Dennis’ using the continue keyword\\\n",
    "c) count all names, but stop at ‘stop’ using the break keyword\n",
    "\n",
    "4. Use a while loop to create the sum of all values, i.e. 1 + 2 + 3 + … + n where n is increasing with 1 for each step. Continue until the sum is larger than 10000 and return the current step n. Print the value using the else construct, after the while loop is finished. (should be 142)\n"
   ]
  },
  {
   "cell_type": "markdown",
   "metadata": {},
   "source": [
    "If you have any questions, feel free to contact me through [LinkedIn](https://www.linkedin.com/in/dennisbakhuis/)."
   ]
  },
  {
   "cell_type": "code",
   "execution_count": null,
   "metadata": {},
   "outputs": [],
   "source": []
  }
 ],
 "metadata": {
  "kernelspec": {
   "display_name": "Python 3",
   "language": "python",
   "name": "python3"
  },
  "language_info": {
   "codemirror_mode": {
    "name": "ipython",
    "version": 3
   },
   "file_extension": ".py",
   "mimetype": "text/x-python",
   "name": "python",
   "nbconvert_exporter": "python",
   "pygments_lexer": "ipython3",
   "version": "3.7.7"
  }
 },
 "nbformat": 4,
 "nbformat_minor": 4
}
