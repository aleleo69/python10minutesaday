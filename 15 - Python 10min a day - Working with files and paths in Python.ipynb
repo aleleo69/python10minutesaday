{
 "cells": [
  {
   "cell_type": "markdown",
   "metadata": {},
   "source": [
    "<img src=\"assets/jeremy-lapak-CVvFVQ_-oUg-unsplash.png\" alt=\"Python Envs\" style=\"display: block; margin: 0 auto\" />"
   ]
  },
  {
   "cell_type": "markdown",
   "metadata": {},
   "source": [
    "# Learning Python 10 minutes a day #15\n",
    "## Working with files and paths in Python\n",
    "[Medium article link](https://towardsdatascience.com/learning-python-10-minutes-a-day-15-50523202db27)"
   ]
  },
  {
   "cell_type": "markdown",
   "metadata": {},
   "source": [
    "This is a [series](https://towardsdatascience.com/tagged/10minutespython) of short 10 minute Python articles helping you to get started with Python. I try to post an article each day (no promises), starting from the very basics, going up to more complex idioms. Feel free to contact me on [LinkedIn](https://www.linkedin.com/in/dennisbakhuis/) for questions or requests on particular subjects of Python, you want to know about."
   ]
  },
  {
   "cell_type": "markdown",
   "metadata": {},
   "source": [
    "We have already learned the basics of handling files. Using the open() function we can open or create a file object and using this file object we can read and write a text file. But what if we need to access multiple files? The data that we need to process is often not in a single file but spread over multiple files or even multiple directories. To work with files and paths, there are a couple of standard library packages we can use. A couple of years ago I would always use the glob package for file listings and the os package for file system actions like deleting files. Nowadays, I mostly use the pathlib package from the standard library, which combines the previous two and is platform independent. The pathlib package introduces the Path() class, an object to represent a path or file."
   ]
  },
  {
   "cell_type": "markdown",
   "metadata": {},
   "source": [
    "To use the Path() class, we need to import it. Next week we will spend a session on what importing actually does. For now, we will just use the import statement to add the additional functionality to Python. We do this using the special from … import … statement, which imports a selective part into the current namespace (don’t worry, we will discuss those terms next week). Lets have a look at a couple of examples:"
   ]
  },
  {
   "cell_type": "code",
   "execution_count": null,
   "metadata": {},
   "outputs": [],
   "source": [
    "from pathlib import Path\n",
    "\n",
    "# specially named paths\n",
    "cwd = Path.cwd()\n",
    "home = Path.home()\n",
    "print('current directory:', cwd)\n",
    "print('home folder:', home)\n",
    "\n",
    "# a specific file\n",
    "path = Path('test.txt')\n",
    "if not path.exists():\n",
    "    print(f'{path} does not exist')\n",
    "\n",
    "# there are many related characteristics:\n",
    "print(path.name)\n",
    "print(path.stem)\n",
    "print(path.suffix)\n",
    "print(path.absolute())  # returns a new Path object\n",
    "print(path.absolute().parent)  # returns a new Path object\n",
    "print(path.absolute().parent.parent)  # I think you get it\n",
    "\n",
    "# you can directly open the file\n",
    "with open(path, 'w') as f:\n",
    "    f.write('PathLib is amazing!\\n')\n",
    "if path.exists():\n",
    "    print('yup, the file exists now!')\n",
    "    \n",
    "# you can get file statistics (times, sizes, permissions, etc.)\n",
    "stats = path.stat()\n",
    "print(f'The file is {stats.st_size} bytes!')\n",
    "import time  # time is used to convert system time to a date/time string\n",
    "print('File is created on', time.ctime(stats.st_mtime))\n",
    "\n",
    "# file sytem operations\n",
    "path.rename('test2.txt')  # the file is deleted, but the Path object stays 'test.txt'\n",
    "path.touch()  # create an empty file (called test.txt)\n",
    "path.unlink()  # to delete a file, use unlink; to delete empty folders rmdir()\n",
    "path = Path('test2.txt')\n",
    "if path.exists():\n",
    "    path.unlink()"
   ]
  },
  {
   "cell_type": "markdown",
   "metadata": {},
   "source": [
    "As you can see, the Path() class is very convenient. It comes with a lot of information of the path or file. For example it has a attribute for the stem filename or the extension. Many methods are built-in to extract for example information on creation date, file size, checks for existence, if it is a file or directory, and many more. Also, many file system operations or available. Some of these operations return a new Path() object. All the examples are in my opinion relatively easy to understand. There are some small subtleties which are nice to know. The Path() object is an immutable data type. This means that you can use it as dictionary keys. This is most probably also the reason why the path in the object does not change when you rename a file. In the next examples, we will show how to work with multiple files."
   ]
  },
  {
   "cell_type": "code",
   "execution_count": null,
   "metadata": {},
   "outputs": [],
   "source": [
    "from pathlib import Path\n",
    "\n",
    "# create a pointer for a directory\n",
    "path = Path('temporary_directory/')  # Path removes the final '/'\n",
    "\n",
    "# the is_dir() method checks the actual file system\n",
    "print(f'{path} is a directory: {path.is_dir()}')\n",
    "print(f'{path} is a file: {path.is_file()}')\n",
    "path.mkdir(exist_ok=True)  # with exist_ok=True, it is fine when the dir exists\n",
    "print(f'{path} is a directory: {path.is_dir()}')\n",
    "print(f'{path} is a file: {path.is_file()}')\n",
    "\n",
    "# let us create ten files\n",
    "for number in range(10):\n",
    "    file_path = path / f'some_file_{number + 1}.txt'\n",
    "    file_path.touch()\n",
    "\n",
    "# now lets find all .txt files and iterate over them\n",
    "for filename in path.glob('*.txt'):\n",
    "    print('filename:', filename.stem)\n",
    "    filename.unlink()\n",
    "\n",
    "# delete an empty directory\n",
    "path.rmdir()"
   ]
  },
  {
   "cell_type": "markdown",
   "metadata": {},
   "source": [
    "To work with multiple files, pathlib has incorporated the .glob() method. It is identical to the glob package where you can find all names according to a pattern. In this example we are finding all files ending with the .txt extension. The result is a list of Path objects, which in their turn open all the previously discussed options. You might notice that the files are not neatly ordered but in the order they occur in the file system. Other things which you might notice is the ‘/’ operator. Path() objects have the ‘/’ operator defined such that you can concatenate paths. We do this in our example with a directory (a Path() object) and a filename (a string)."
   ]
  },
  {
   "cell_type": "markdown",
   "metadata": {},
   "source": [
    "Pathlib combines many packages from the standard library into a single object to do practically any file system handling. Therefore, I would highly recommend using this way, instead of the older standards using the os package. While those methods are fine too, the pathlib gives you a much neater format, with almost all power you need close at hand."
   ]
  },
  {
   "cell_type": "markdown",
   "metadata": {},
   "source": [
    "## Practice for today:\n",
    "Path() has many great use cases and today we will practice one as well. I have provided a zip-file with a folder of files ([here](https://www.dropbox.com/s/k5td7mfyio8rbis/data_files.zip?dl=1)). The files in the folder are of the type ‘word’ and each is a text-file containing a single word."
   ]
  },
  {
   "cell_type": "markdown",
   "metadata": {},
   "source": [
    "### Assignment:\n",
    "Use pathlib to iterate through all files and read all the words. There is one problem: the glob result is not sorted in ascending order. Therefore, you have to order the words in the ascending order from the filenames. Can you print the words in the right order? You might find a cheesy joke ;-).\n",
    "\n",
    "### Hints:\n",
    "1. Use glob to get a list of files.\n",
    "2. When iterating over each file, store the words in a dictionary, using the file number as a key. You can extract the file number from the stem of the file and using the .split() method. Make sure to convert the number to an integer.\n",
    "3. Next you have to iterate over the sorted keys and print each word with a space (‘ ‘) as end character (with the end=’ ‘ parameter in print()). Below is an example on how to sort dictionary keys, as we have not yet discussed sorted()."
   ]
  },
  {
   "cell_type": "code",
   "execution_count": null,
   "metadata": {},
   "outputs": [],
   "source": [
    "my_dict = {4: 'ba', 6: 'bing', 5: 'da', 8:'!!!'}\n",
    "for key in sorted(my_dict.keys()):\n",
    "    print(my_dict[key], end=' ')"
   ]
  },
  {
   "cell_type": "markdown",
   "metadata": {},
   "source": [
    "I have posted a [solution](https://gist.github.com/dennisbakhuis/a5535ef28c398e8266d8fad810bf4989) on my Github."
   ]
  },
  {
   "cell_type": "markdown",
   "metadata": {},
   "source": [
    "If you have any questions, feel free to contact me through [LinkedIn](https://www.linkedin.com/in/dennisbakhuis/)."
   ]
  },
  {
   "cell_type": "code",
   "execution_count": null,
   "metadata": {},
   "outputs": [],
   "source": []
  }
 ],
 "metadata": {
  "kernelspec": {
   "display_name": "Python 3",
   "language": "python",
   "name": "python3"
  },
  "language_info": {
   "codemirror_mode": {
    "name": "ipython",
    "version": 3
   },
   "file_extension": ".py",
   "mimetype": "text/x-python",
   "name": "python",
   "nbconvert_exporter": "python",
   "pygments_lexer": "ipython3",
   "version": "3.7.7"
  }
 },
 "nbformat": 4,
 "nbformat_minor": 4
}
