{
 "cells": [
  {
   "cell_type": "markdown",
   "metadata": {},
   "source": [
    "<img src=\"assets/jeremy-lapak-CVvFVQ_-oUg-unsplash.png\" alt=\"Python Envs\" style=\"display: block; margin: 0 auto\" />"
   ]
  },
  {
   "cell_type": "markdown",
   "metadata": {},
   "source": [
    "# Learning Python 10 minutes a day #1\n",
    "## What are Python, IPython, and Jupyter lab?\n",
    "[Medium article link](https://towardsdatascience.com/learning-python-10-minutes-a-day-1-7fda6662276)"
   ]
  },
  {
   "cell_type": "markdown",
   "metadata": {},
   "source": [
    "This is a [series](https://towardsdatascience.com/tagged/10minutespython) of short 10 minute Python articles helping you to get started with Python. I try to post an article each day (no promises), starting from the very basics, going up to more complex idioms. Feel free to contact me on [LinkedIn](https://www.linkedin.com/in/dennisbakhuis/) for questions or requests on particular subjects of Python, you want to know about."
   ]
  },
  {
   "cell_type": "markdown",
   "metadata": {},
   "source": [
    "According to the [PYPL](https://pypl.github.io/PYPL.html) (PopularitY of Programming Language), Python currently is the most popular programming language there is. This is for a good reason as it was designed for general purpose rapid programming, with readability as a core rule. Many successful companies such as Reddit and Dropbox are build around Python. While it was never a design goal to be easy to learn, many describe it as such, most probably because the Python community is very welcoming to beginners."
   ]
  },
  {
   "cell_type": "markdown",
   "metadata": {},
   "source": [
    "From the main [website](https://www.python.org/doc/essays/blurb/), Python calls itself an interpreted, object-oriented, high-level programming language with dynamic semantics. It is interpreted, therefore, there is no need for a compile step, reducing the time of the edit-test-debug cycle. The language does not only support object-oriented programming (functional programming is still fine too), but in Python everything is represented by an object. The high-level means that you do not have to worry about low-level system specifics like memory allocation and garbage collection. Python is dynamically typed, meaning variables are references (or labels) to objects, and these can change freely during run-time. This is not the case for statically typed languages like C, where variable types have to be declared at compilation."
   ]
  },
  {
   "cell_type": "markdown",
   "metadata": {},
   "source": [
    "I can imagine that these general design rules are currently hard to grasp, but with time and more experience, it will get clear eventually, promise! What I generally recommend people to remember is that Python has been designed to be simplistic. I was more than once surprised by how simple Python solved some problems. And if you want to get up-to-speed fast with Python, you have to get your hands dirty and code yourself."
   ]
  },
  {
   "cell_type": "markdown",
   "metadata": {},
   "source": [
    "To start using Python, you need to install a version (there is already a pre-installed version on Mac and many Linux distributions). While the most direct way is to go to Python.org and download the latest version, I recommend using Miniconda. For this, I wrote a [short guide](https://towardsdatascience.com/environments-conda-pip-aaaaah-d2503877884c) on how and why. After Python is installed, it can get started using “python”, for example from a terminal. This opens up a so-called REPL: Read, Evaluate, Print, Loop. It is just some sort of command line interface (CLI) to interact directly with Python. You can execute any Python code directly and/or open files to run python scripts. The python interpreter is generally used to run scripts from the CLI and I do not know anyone who uses the REPL interface directly, except for a quick calculator. To use Python more interactively, almost everyone uses IPython."
   ]
  },
  {
   "cell_type": "markdown",
   "metadata": {},
   "source": [
    "<img src=\"assets/day1-repl.png\" alt=\"Python Envs\"  width=\"600\" style=\"display: block; margin: 0 auto\" />\n",
    "\n",
    "*Your terminal might look different but here I start both REPLs*\n"
   ]
  },
  {
   "cell_type": "markdown",
   "metadata": {},
   "source": [
    "IPython provides an enhanced interactive Python shell, to start simply type “ipython” in a terminal (you might have to install it using “pip install ipython”). Another amazing feature of IPython is the decoupled “E” from the REPL, which it calls a ‘kernel’. The kernel receives execution instructions and sends back the results. While there are many benefits to use kernels, one that is widely used is that other applications such as Spyder and Jupyter connect to the IPython kernel. Applications that need to interact with a kernel generally start these under the hood themselves."
   ]
  },
  {
   "cell_type": "markdown",
   "metadata": {},
   "source": [
    "## Practice for today:\n",
    "If you haven’t already, I highly advice to setup you Python using Miniconda, as suggested in [this](https://towardsdatascience.com/environments-conda-pip-aaaaah-d2503877884c) guide.\n",
    "\n",
    "1. Start the basic Python REPL and run the “print(‘hello world’)” command. You can exit it using “quit()” or “exit()” (notice the parenthesis?).\n",
    "2. Start the IPython REPL and run the “print(‘hello world’)” command. You might have to install IPython. Here you can exit using “quit” or “exit”.\n",
    "1. Setup your preferred Python environment, i.e. Jupyter, VSC, Spyder, pyCharm, or nothing if you simply work from a text editor and a terminal. It does not matter for the examples, but we will show all from a Jupyter lab or simply IPython.\n"
   ]
  },
  {
   "cell_type": "markdown",
   "metadata": {},
   "source": [
    "If you have any questions, feel free to contact me through [LinkedIn](https://www.linkedin.com/in/dennisbakhuis/)."
   ]
  },
  {
   "cell_type": "code",
   "execution_count": null,
   "metadata": {},
   "outputs": [],
   "source": []
  }
 ],
 "metadata": {
  "kernelspec": {
   "display_name": "Python 3",
   "language": "python",
   "name": "python3"
  },
  "language_info": {
   "codemirror_mode": {
    "name": "ipython",
    "version": 3
   },
   "file_extension": ".py",
   "mimetype": "text/x-python",
   "name": "python",
   "nbconvert_exporter": "python",
   "pygments_lexer": "ipython3",
   "version": "3.7.7"
  }
 },
 "nbformat": 4,
 "nbformat_minor": 4
}
