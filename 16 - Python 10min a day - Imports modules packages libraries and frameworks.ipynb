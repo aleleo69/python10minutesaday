{
 "cells": [
  {
   "cell_type": "markdown",
   "metadata": {},
   "source": [
    "<img src=\"assets/jeremy-lapak-CVvFVQ_-oUg-unsplash.png\" alt=\"Python Envs\" style=\"display: block; margin: 0 auto\" />"
   ]
  },
  {
   "cell_type": "markdown",
   "metadata": {},
   "source": [
    "# Learning Python 10 minutes a day #16\n",
    "## Imports, modules, packages, libraries, and frameworks\n",
    "[Medium article link](https://towardsdatascience.com/learning-python-10-minutes-a-day-16-c8b83919a13e)"
   ]
  },
  {
   "cell_type": "markdown",
   "metadata": {},
   "source": [
    "This is a [series](https://towardsdatascience.com/tagged/10minutespython) of short 10 minute Python articles helping you to get started with Python. I try to post an article each day (no promises), starting from the very basics, going up to more complex idioms. Feel free to contact me on [LinkedIn](https://www.linkedin.com/in/dennisbakhuis/) for questions or requests on particular subjects of Python, you want to know about."
   ]
  },
  {
   "cell_type": "markdown",
   "metadata": {},
   "source": [
    "We have already imported a couple of things without actually explaining what is happening. Today we will learn that imports in Python are actually quite simplistic. Using imports, we can add functionality to Python. Because Python is such an active and open community, there is a lot to import. Even Python itself comes with an extensive [standard library](https://docs.python.org/3/library/) of features (batteries included). For example, the pathlib library gives you file-system super powers. But there are also countless of third party packages and libraries which extent Python or make some kind of function very easy to implement. For example, Flask is a very easy way to create a dynamic website. Pandas adds a new DataFrame structure which is amazing for data science. Almost for any use case, there is some kind of package available."
   ]
  },
  {
   "cell_type": "markdown",
   "metadata": {},
   "source": [
    "<img src=\"assets/day16-lib.jpeg\" alt=\"Python Envs\"  width=\"600\" style=\"display: block; margin: 0 auto\" />"
   ]
  },
  {
   "cell_type": "markdown",
   "metadata": {},
   "source": [
    "Before we begin, we need to clarify some terms. A file that contains Python code is called a module and has the .py extension. Modules can be imported and generally consists of one ore more functions or classes. If you import a module (another .py file) into the current script, these functions and/or classes become available in the current script. This is a nice way to code DRY and have shareable code. To give structure to multiple modules, you can combine them into a package. A package in Python is nothing more than a directory with all the modules combined and a special file named `__init__.py`. If this file is in a directory, the package can be imported using the directory name. When packages get larger and larger, you can structure them into more folders and create a library. Under the hood, a library is conceptually identical to a package. A framework is a collection of libraries. For example, Flask has many sub-packages for authorization and database interaction. In general, everything you import can be traced back to a Python script."
   ]
  },
  {
   "cell_type": "markdown",
   "metadata": {},
   "source": [
    "Another concept that is important are namespaces. A namespace defines where a name is known (scope). Python has a global built-in namespace which makes functions like print known everywhere. Inside this namespace, we have the module namespace. The Python program we create, is also known as a module. Each variable we define is known inside this module namespace. This means that if we define on the top of our script that banana=3, from now on, this variable will be know throughout the module. Every time you create a function, it has its own namespace. This means that each variable definition is only know inside this function and cannot be accessed from outside the function. Variables from the module namespace are however, available inside the function."
   ]
  },
  {
   "cell_type": "code",
   "execution_count": null,
   "metadata": {},
   "outputs": [],
   "source": [
    "banana = 3  # we define an integer in the global namespace\n",
    "\n",
    "def print_banana():\n",
    "    apple = 2  # apple is defined in the print_banana namespace\n",
    "    print(banana)  # banana is in the module namespace and accessible from this sub-namespace\n",
    "\n",
    "print(banana)  # we are still in the module namespace\n",
    "print(apple)  # this will give an error"
   ]
  },
  {
   "cell_type": "markdown",
   "metadata": {},
   "source": [
    "For the next example, we first need to create a module. For this we are going to use a magic command from IPython called %%writefile. As the name suggests, it will write the contents of the cell into a file. The file contains a short Python script with a variable and a function:"
   ]
  },
  {
   "cell_type": "code",
   "execution_count": null,
   "metadata": {},
   "outputs": [],
   "source": [
    "%%writefile my_module.py\n",
    "\n",
    "some_value = 3.14\n",
    "\n",
    "def my_print_function():\n",
    "    print('Yo yo, I am a module!')"
   ]
  },
  {
   "cell_type": "markdown",
   "metadata": {},
   "source": [
    "There are two ways of importing our new module. First is a general import, which imports the complete file under its stem filename namespace (name without extension). Because module names can be long (and we are to lazy to type), we can rename the namespace into something shorter using the as keyword. Many popular packages have well-known abbreviations: import pandas as pd, import matplotlib.pyplot as plt, etc. The other method for importing is using the from … import … construct. With this method you can import fractions of a module into the current namespace. The imported items are available as if they are defined in the current module."
   ]
  },
  {
   "cell_type": "code",
   "execution_count": null,
   "metadata": {},
   "outputs": [],
   "source": [
    "# global import\n",
    "import my_module\n",
    "import my_module as mm\n",
    "\n",
    "my_module.my_print_function()\n",
    "print('variable:', mm.some_value)\n",
    "\n",
    "# selective import into current name space\n",
    "from my_module import my_print_function, some_value\n",
    "\n",
    "my_print_function()\n",
    "print(some_value)"
   ]
  },
  {
   "cell_type": "markdown",
   "metadata": {},
   "source": [
    "When modules become to large, it is sensible to split them up into smaller fractions. Often they are grouped in some way. For this, packages were created. As mentioned before, a package is simply a collection of modules inside a directory. The directory is detected as a package when there exists a file called `__init__.py` (double underscores around the init). Each module is then accessed using `<directory_name>.<module_name>`."
   ]
  },
  {
   "cell_type": "code",
   "execution_count": null,
   "metadata": {},
   "outputs": [],
   "source": [
    "from pathlib import Path\n",
    "\n",
    "# lets first create a module\n",
    "path = Path('my_package')\n",
    "path.mkdir(exist_ok=True)\n",
    "\n",
    "with open(path / 'my_module.py', 'w') as f:\n",
    "    f.write('some_value = 3.14\\n\\n')\n",
    "    f.write('def my_print_function():\\n')\n",
    "    f.write('\\tprint(\"Yo yo, I am a module!\")\\n')\n",
    "\n",
    "init_file = path / '__init__.py'\n",
    "init_file.touch()\n",
    "\n",
    "# test our new package\n",
    "import my_package.my_module as m\n",
    "m.my_print_function()\n",
    "\n",
    "# using the as keyword you can also rename function references\n",
    "from my_package.my_module import my_print_function as mpf\n",
    "mpf()"
   ]
  },
  {
   "cell_type": "markdown",
   "metadata": {},
   "source": [
    "This is all there is on packages and modules. The even larger types (libraries and frameworks) are collections of packages, combined in a single directory and are accessed the same way as modules. So when you install a package using pip, a folder with Python files is created. This folder is in to your Python path, a string containing directories on where to look for modules and packages. When we import a module, Python will first look for the module in the current working directory. Next, it will check the Python standard library. If it still cannot find the module, it will iterate through the paths defined in the Python path environment variable. In Python this path is easily accessible through the sys package. Using sys.path you can inspect all paths and even add another path to make the packages in that directory findable."
   ]
  },
  {
   "cell_type": "markdown",
   "metadata": {},
   "source": [
    "When editing modules you can get into an interesting situation: when importing modules that are already imported, it will keep referencing to the previously imported module. This means that if you change a module and import it again, without restarting the kernel, you will still use the old version of the module. I had to realize this the hard way, which took me a couple of hours to understand what was happening. To solve this, Python has an additional package called importlib and using the importlib.reload() function we can force a reload of a module."
   ]
  },
  {
   "cell_type": "code",
   "execution_count": null,
   "metadata": {},
   "outputs": [],
   "source": [
    "# add a path to the current PYTHONPATH\n",
    "import sys\n",
    "sys.path.insert(0,'../../../../sharedCode/')  # add sharedCode folder to path\n",
    "\n",
    "\n",
    "# reload a package\n",
    "import math\n",
    "import importlib\n",
    "importlib.reload(math)  # force reload of the math package"
   ]
  },
  {
   "cell_type": "markdown",
   "metadata": {},
   "source": [
    "I think that for now, we have enlightened quite a bit of the import system and how modules and packages work. Of course, there are [more subtleties to learn](https://docs.python.org/3/reference/import.html) but for now, this is probably enough. The most important thing to know is that you can expand Python using packages. The community is extremely active and for almost anything you want to do, there is probably a package to help you. Almost all packages are in the Python Package Index ([PyPi](https://pypi.org/)) so this is a great place to start looking. If, by any chance, you come across something that does not exist, it is generally not that difficult to create. And if you want to get the immortal status, you can upload you package to PyPi in a bliss for other people to use. Sharing is caring!"
   ]
  },
  {
   "cell_type": "markdown",
   "metadata": {},
   "source": [
    "## Practice for today:\n",
    "For today, the assignment is to create your own package, which contains two modules. The first module contains the string functions and the second contains numeric functions (provided below). Test if your package is working."
   ]
  },
  {
   "cell_type": "code",
   "execution_count": null,
   "metadata": {},
   "outputs": [],
   "source": [
    "# String functions (in a separate module)\n",
    "def split_string(sentence):\n",
    "    return sentence.split(' ')\n",
    "\n",
    "def is_long(sentence):\n",
    "    if len(sentence) > 10:\n",
    "        return True\n",
    "    return False\n",
    "\n",
    "# Numeric functions (in a separate module)\n",
    "def square_root(number):\n",
    "    return number**0.5\n",
    "\n",
    "def square(number):\n",
    "    return number * number"
   ]
  },
  {
   "cell_type": "markdown",
   "metadata": {},
   "source": [
    "If you have any questions, feel free to contact me through [LinkedIn](https://www.linkedin.com/in/dennisbakhuis/)."
   ]
  },
  {
   "cell_type": "code",
   "execution_count": null,
   "metadata": {},
   "outputs": [],
   "source": []
  }
 ],
 "metadata": {
  "kernelspec": {
   "display_name": "Python 3",
   "language": "python",
   "name": "python3"
  },
  "language_info": {
   "codemirror_mode": {
    "name": "ipython",
    "version": 3
   },
   "file_extension": ".py",
   "mimetype": "text/x-python",
   "name": "python",
   "nbconvert_exporter": "python",
   "pygments_lexer": "ipython3",
   "version": "3.7.7"
  }
 },
 "nbformat": 4,
 "nbformat_minor": 4
}
