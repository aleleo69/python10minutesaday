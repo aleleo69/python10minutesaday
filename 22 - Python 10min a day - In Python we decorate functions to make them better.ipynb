{
 "cells": [
  {
   "cell_type": "markdown",
   "metadata": {},
   "source": [
    "<img src=\"assets/jeremy-lapak-CVvFVQ_-oUg-unsplash.png\" alt=\"Python Envs\" style=\"display: block; margin: 0 auto\" />"
   ]
  },
  {
   "cell_type": "markdown",
   "metadata": {},
   "source": [
    "# Learning Python 10 minutes a day #22\n",
    "## In Python we decorate functions to make them better\n",
    "[Medium article link](https://towardsdatascience.com/learning-python-10-minutes-a-day-22-a1bc96b529a1)"
   ]
  },
  {
   "cell_type": "markdown",
   "metadata": {},
   "source": [
    "This is a [series](https://python-10-minutes-a-day.rocks) of short 10 minute Python articles helping you to get started with Python. I try to post an article each day (no promises), starting from the very basics, going up to more complex idioms. Feel free to contact me on [LinkedIn](https://www.linkedin.com/in/dennisbakhuis/) for questions or requests on particular subjects of Python, you want to know about."
   ]
  },
  {
   "cell_type": "markdown",
   "metadata": {},
   "source": [
    "Decorators is another confusing topic and their use can definitely feel somewhat magical. While the term to decorate a function is very appropriate, it also blurs a bit from what is happening, namely: wrapping a function inside another function. First, we will create an example function:"
   ]
  },
  {
   "cell_type": "markdown",
   "metadata": {},
   "source": [
    "<img src=\"assets/day22-decorate.jpg\" alt=\"Python Envs\"  width=\"600\" style=\"display: block; margin: 0 auto\" />"
   ]
  },
  {
   "cell_type": "code",
   "execution_count": null,
   "metadata": {},
   "outputs": [],
   "source": [
    "def square_value(value):\n",
    "    \"\"\"\n",
    "    return the square of value\n",
    "    \"\"\"\n",
    "    return value * value"
   ]
  },
  {
   "cell_type": "markdown",
   "metadata": {},
   "source": [
    "The function is plain simple and I guess pretty clear to anyone. We probably write many functions and sometimes we need to time the function, for example if we want to check if a new implementation is faster. One way to do this is to simply use the time function:"
   ]
  },
  {
   "cell_type": "code",
   "execution_count": null,
   "metadata": {},
   "outputs": [],
   "source": [
    "from time import time\n",
    "\n",
    "before = time()\n",
    "square_value(128)\n",
    "after = time()\n",
    "print(f'Execution took {after - before} seconds')\n",
    "\n",
    "before = time()\n",
    "square_value(256)\n",
    "after = time()\n",
    "\n",
    "before = time()\n",
    "square_value(512)\n",
    "after = time()\n",
    "print(f'Execution took {after - before} seconds')"
   ]
  },
  {
   "cell_type": "markdown",
   "metadata": {},
   "source": [
    "I hope that it is clear that this is not really [DRY](https://towardsdatascience.com/learning-python-10-minutes-a-day-9-60ecdf101cb5). Of course we could use the iPython magic statement %timeit but for the time being lets ignore that possibility. When examining the steps, we see that we have added a couple of steps before the actual function and a few after the function has finished. One way to solve this is to put the timing inside the square_value function. But what if you want to time other functions as well. Because a large portion of the code is live, we can easily wrap functions around functions. Lets have a first attempt:"
   ]
  },
  {
   "cell_type": "code",
   "execution_count": null,
   "metadata": {},
   "outputs": [],
   "source": [
    "def timer(func, *args):\n",
    "    before = time()\n",
    "    result = func(*args)\n",
    "    after = time()\n",
    "    print(f'Execution took {after - before} seconds')\n",
    "    return result\n",
    "\n",
    "timer(square_value, 128)"
   ]
  },
  {
   "cell_type": "markdown",
   "metadata": {},
   "source": [
    "Here we created a new function that takes a function and its parameters as arguments. Remember the `*args` method to [catch all unnamed arguments](https://towardsdatascience.com/learning-python-10-minutes-a-day-7-5390dd024178)? We pass these to the called function. This is already a big improvement from the very WET code we created before. However, it still feel tedious to wrap a function around a function for each call. Can't we just define it such that it sticks around? You probably guessed that we can do this. We use the fact that we can define a function anywhere we want and return that new definition. This may sound weird but it will be clear in the next example:"
   ]
  },
  {
   "cell_type": "code",
   "execution_count": null,
   "metadata": {},
   "outputs": [],
   "source": [
    "def timer(func):\n",
    "    def wrapper(*args):\n",
    "        before = time()\n",
    "        result = func(*args)\n",
    "        after = time()\n",
    "        print(f'Execution took {after - before} seconds')\n",
    "        return result\n",
    "    return wrapper\n",
    "\n",
    "def square_value(value):\n",
    "    \"\"\"\n",
    "    return the square of value\n",
    "    \"\"\"\n",
    "    return value * value\n",
    "\n",
    "square_value = timer(square_value)\n",
    "square_value(128)"
   ]
  },
  {
   "cell_type": "markdown",
   "metadata": {},
   "source": [
    "The timer function is now a wrapper function that creates a new function around our square_values and returns the wrapped function. The big advantage of this approach is that we can now time any function we like by simply wrapping it in our timer(). Here we overwrite the reference to the original function by its wrapped state. This step is called decorating a function. Because this step  is a very common action, Python has created a special syntax to decorate a function using the @ symbol:"
   ]
  },
  {
   "cell_type": "code",
   "execution_count": null,
   "metadata": {},
   "outputs": [],
   "source": [
    "@timer\n",
    "def square_value(value):\n",
    "    \"\"\"\n",
    "    return the square of value\n",
    "    \"\"\"\n",
    "    return value * value\n",
    "\n",
    "square_value(128)"
   ]
  },
  {
   "cell_type": "markdown",
   "metadata": {},
   "source": [
    "So the @ notation is only syntax, nothing really magical. It is a short-hand notation for overwriting the original function reference with the wrapped function."
   ]
  },
  {
   "cell_type": "markdown",
   "metadata": {},
   "source": [
    "The use-cases for decorators are not that obvious to beginners. In my first years of Python I have never used them. Nowadays, I use them occasionally. Next to timing functions, a great use-case is logging. Using a decorator, you can monitor your code on a function level."
   ]
  },
  {
   "cell_type": "markdown",
   "metadata": {},
   "source": [
    "There are quite some packages out there which use the decorator in their syntax. For example, [FastApi](https://fastapi.tiangolo.com/) from Sebastián Ramírez uses decorators to create links with the end-points of your RestFull api. [Django](https://www.djangoproject.com/) and [Flask](https://palletsprojects.com/p/flask/), both great web frameworks, use decorators for various things. For example to ensure a function is only used when a user is logged in. Another, almost magical usage is with [Numba](https://numba.pydata.org/). When decorating a function with Numba, it uses just-in-time (JIT) compilation to speed up your functions, making them comparable in speed with compiled languages. There are many other usages, [here](https://github.com/lord63/awesome-python-decorator) is a curated list."
   ]
  },
  {
   "cell_type": "markdown",
   "metadata": {},
   "source": [
    "## Practice for today:\n",
    "Today we are going to practice with another use case for decorators, namely to change existing functions. Sometimes, you come across a function you imported that does almost what you want. Almost, but it needs a small tweak. For this, you can write another function that does it for you or you can use decorators."
   ]
  },
  {
   "cell_type": "code",
   "execution_count": null,
   "metadata": {},
   "outputs": [],
   "source": [
    "import random\n",
    "\n",
    "def current_temperature():\n",
    "    \"\"\"\n",
    "    Gives a random temperature in Fahrenheit\n",
    "    \"\"\"\n",
    "    temperature = round(-52 + 160 * random.random())\n",
    "    return temperature\n",
    "\n",
    "print('Temperature in Fahrenheit:', current_temperature())"
   ]
  },
  {
   "cell_type": "markdown",
   "metadata": {},
   "source": [
    "### Assignment:\n",
    "Write a decorator function and decorate current_temperature() such that it returns the temperature in Celcius."
   ]
  },
  {
   "cell_type": "markdown",
   "metadata": {},
   "source": [
    "Hints:\n",
    "1. You can copy/past the structure of our previous timer decorator function.\n",
    "2. Celsius = (Fahrenheit - 32) * 5 / 9"
   ]
  },
  {
   "cell_type": "markdown",
   "metadata": {},
   "source": [
    "A solution is [posted](https://gist.github.com/dennisbakhuis/ae4fd65d5c4f87ed0cb9f0dc7313746a) on my Github."
   ]
  },
  {
   "cell_type": "markdown",
   "metadata": {},
   "source": [
    "If you have any questions, feel free to contact me through [LinkedIn](https://www.linkedin.com/in/dennisbakhuis/)."
   ]
  },
  {
   "cell_type": "code",
   "execution_count": null,
   "metadata": {},
   "outputs": [],
   "source": []
  }
 ],
 "metadata": {
  "kernelspec": {
   "display_name": "Python 3",
   "language": "python",
   "name": "python3"
  },
  "language_info": {
   "codemirror_mode": {
    "name": "ipython",
    "version": 3
   },
   "file_extension": ".py",
   "mimetype": "text/x-python",
   "name": "python",
   "nbconvert_exporter": "python",
   "pygments_lexer": "ipython3",
   "version": "3.7.7"
  }
 },
 "nbformat": 4,
 "nbformat_minor": 4
}
