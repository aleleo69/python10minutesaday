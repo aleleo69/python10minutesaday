{
 "cells": [
  {
   "cell_type": "markdown",
   "metadata": {},
   "source": [
    "<img src=\"assets/jeremy-lapak-CVvFVQ_-oUg-unsplash.png\" alt=\"Python Envs\" style=\"display: block; margin: 0 auto\" />"
   ]
  },
  {
   "cell_type": "markdown",
   "metadata": {},
   "source": [
    "# Learning Python 10 minutes a day #13\n",
    "## Dictionaries: key value stores\n",
    "[Medium article link](https://towardsdatascience.com/learning-python-10-minutes-a-day-13-4d8172df24b2)"
   ]
  },
  {
   "cell_type": "markdown",
   "metadata": {},
   "source": [
    "This is a [series](https://towardsdatascience.com/tagged/10minutespython) of short 10 minute Python articles helping you to get started with Python. I try to post an article each day (no promises), starting from the very basics, going up to more complex idioms. Feel free to contact me on [LinkedIn](https://www.linkedin.com/in/dennisbakhuis/) for questions or requests on particular subjects of Python, you want to know about."
   ]
  },
  {
   "cell_type": "markdown",
   "metadata": {},
   "source": [
    "<img src=\"assets/day13-mutable.jpeg\" alt=\"Python Envs\"  width=\"600\" style=\"display: block; margin: 0 auto\" />"
   ]
  },
  {
   "cell_type": "markdown",
   "metadata": {},
   "source": [
    "Almost all data types in Python are immutable (cannot change). So far, we have only seen the mighty list, which is one of the mutables. A list is an ordered container and can hold any type of data, including other lists. Today, we will work with another mutable data type: the dictionary. The dictionary is the other work horse from Python and acts like a key-value store. Items in a dictionary are accessed by a key. Similar to the list, the value can be any object, including other lists or dictionaries (dictionary-ception). Maybe a bit weird when seeing this for the first time, but the key can also be almost anything. Almost anything, because the key has to be immutable. It can be an integer, a string, a float, a complex number, a tuple, any object, as long as it is immutable. Lets look at some examples on what this all means."
   ]
  },
  {
   "cell_type": "code",
   "execution_count": null,
   "metadata": {},
   "outputs": [],
   "source": [
    "# creating an empty dictionary\n",
    "my_dict = {}\n",
    "other_dict = dict()\n",
    "\n",
    "# defining a dict with values\n",
    "key_value = {\n",
    "    'value1': 42,\n",
    "    'question': 'Why are we here?',\n",
    "    3.141: 'a small piece of pi',\n",
    "    print: 'a print function',\n",
    "    5: print\n",
    "}\n",
    "\n",
    "# accessing objects\n",
    "print(key_value['value1'])\n",
    "print(key_value['question'])\n",
    "print(key_value[3.141])\n",
    "print(key_value[print])\n",
    "key_value[5]('This is the print function wrapped in a dict')"
   ]
  },
  {
   "cell_type": "markdown",
   "metadata": {},
   "source": [
    "Creating a dictionary is done using the dict() keyword or the shorter curly braces notation. To define values, you have to supply key-value pairs, which are separated by a semicolon. As mentioned earlier, the key can be anything that is immutable. In this example we have of course used keys which in general do not make sense to use (except for maybe some very specific situations). To access the values, you have to provide the key between the brackets. In the example, we have five different keys, and we need to use the exact identifier. If you fail to provide a correct key, you will get a KeyError. Slicing is not possible with dictionaries. As everything in Python is an object, you can also use functions as keys, or as values. Therefore, using key_value[5] is a reference to the print function and we can immediately use parenthesis to provide parameters to the function. Don’t worry if this is confusing. These structures are nice to know, but not used very often. Most important to remember is that lists are ordered and therefore, accessed by there integer position in the list and dictionaries are unordered and can only be accessed by their key. Since Python 3.7, the order of the dictionary is preserved (so they are now ordered), something which is not the case for earlier versions."
   ]
  },
  {
   "cell_type": "markdown",
   "metadata": {},
   "source": [
    "The built-in functions and operators we have learned for lists also apply for dictionaries. We can check the amount of key-value pairs with len() and check if a dictionary is empty using a simple boolean test. For lists we could check if a value was in the lists using the in keyword. For dictionaries this will test if a key exists in the dictionary. Furthermore, dictionaries come again with a couple methods attached to the object:"
   ]
  },
  {
   "cell_type": "code",
   "execution_count": null,
   "metadata": {},
   "outputs": [],
   "source": [
    "# define a sensible dictionary\n",
    "inhabitants = {\n",
    "    'enschede': 159737,\n",
    "    'hengelo': 81147,\n",
    "    'almelo': 73080,\n",
    "    'nijverdal': 24698\n",
    "}\n",
    "\n",
    "# some operators\n",
    "if inhabitants:\n",
    "    print('dictionary is not empty')\n",
    "if 'enschede' in inhabitants:\n",
    "    print('Enschede is registered')\n",
    "print('Number of items:', len(inhabitants))\n",
    "\n",
    "# add a new value\n",
    "inhabitants['amsterdam'] = 872779\n",
    "\n",
    "# iterate over all items:\n",
    "for key, value in inhabitants.items():\n",
    "    print(f'{key:<10}', '-->', f'{value:>7}')\n",
    "\n",
    "# print all keys\n",
    "print('all keys:', inhabitants.keys())  # .keys() is a great method to find a key-name\n",
    "\n",
    "# print all values\n",
    "print('all values:', inhabitants.values())\n",
    "\n",
    "# get + remove a value\n",
    "almelo = inhabitants.pop('almelo')\n",
    "print('Almelo -->', almelo)\n",
    "\n",
    "# find a value\n",
    "if 24698 in inhabitants.values():\n",
    "    print('Yup, this number is in')"
   ]
  },
  {
   "cell_type": "markdown",
   "metadata": {},
   "source": [
    "For iterating over dictionaries, we have to do something special as we have key-value pairs. For this, a dictionary has the .items() method, which zips the keys and the values together. In the for-loop, you can then unpack the key and value for each iteration. To append to a dictionary, you directly use the bracket notation. If the key does not exists, it will be created with a new entry and if it exists, it will be updated. To get a list of keys, a dictionary has the .keys() method. This is a convenient and quick check to inspect the keys are used. A similar method exists to get all the values: .values()."
   ]
  },
  {
   "cell_type": "markdown",
   "metadata": {},
   "source": [
    "Dictionaries are a great way to gather various amounts of information in a single structure and are used quite often. It is very useful for values that are linked to other values. For example, inhabitants of a city or calories for a meal. Together with lists, dictionaries are the core of data structures in Python and in many cases more than sufficient to solve the problem (in comparison to more complex structures like data classes)."
   ]
  },
  {
   "cell_type": "markdown",
   "metadata": {},
   "source": [
    "## Practice for today:\n",
    "One of the older encryption techniques is the so called [Ceasar cipher](https://en.wikipedia.org/wiki/Caesar_cipher). It is a type of substitution cipher in which each character is shifted with a fixed number. The story goes that Julius Ceasar used the cipher to encode his message with military significance. Word goes that he used a right shift of three, meaning that all ‘A’s will become ‘D’s, all ‘B’s become ‘E’s, etc. For today’s assignment you have to decrypt an encoded message."
   ]
  },
  {
   "cell_type": "code",
   "execution_count": null,
   "metadata": {},
   "outputs": [],
   "source": [
    "alphabet = 'abcdefghijklmnopqrstuvwxyz ABCDEFGHIJKLMNOPQRSTUVWXYZ1234567890!?'  # one long string\n",
    "n = 13  # cipher shift (to the right)encrypted_message = 'VMyAHrM3KFuA MHrDKMzGpul'"
   ]
  },
  {
   "cell_type": "markdown",
   "metadata": {},
   "source": [
    "### Assignment:\n",
    "Use a dictionary to create a decipher key and decrypt the secret message.\n",
    "\n",
    "### Hints:\n",
    "1. you can apply slicing to shift the alphabet accordingly. You have to slice alphabet twice (shifted from n untill the end + begin until n)and concatenate them.\n",
    "2. To create the decipher dictionary, use a for-loop to populate it. For this, you can zip the two strings (alphabet and shifted_alphabet) together and iterate over the characters.\n",
    "3. Finally, you can iterate over the encrypted characters and use your decipher dictionary to substitute the character to a readable one.\n",
    "\n",
    "I have posted the solution on my [Github](https://gist.github.com/dennisbakhuis/85f676a4278d8b83a5d2344b3e83f08e)."
   ]
  },
  {
   "cell_type": "markdown",
   "metadata": {},
   "source": [
    "If you have any questions, feel free to contact me through [LinkedIn](https://www.linkedin.com/in/dennisbakhuis/)."
   ]
  },
  {
   "cell_type": "code",
   "execution_count": null,
   "metadata": {},
   "outputs": [],
   "source": []
  }
 ],
 "metadata": {
  "kernelspec": {
   "display_name": "Python 3",
   "language": "python",
   "name": "python3"
  },
  "language_info": {
   "codemirror_mode": {
    "name": "ipython",
    "version": 3
   },
   "file_extension": ".py",
   "mimetype": "text/x-python",
   "name": "python",
   "nbconvert_exporter": "python",
   "pygments_lexer": "ipython3",
   "version": "3.7.7"
  }
 },
 "nbformat": 4,
 "nbformat_minor": 4
}
