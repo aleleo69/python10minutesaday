{
 "cells": [
  {
   "cell_type": "markdown",
   "metadata": {},
   "source": [
    "<img src=\"assets/jeremy-lapak-CVvFVQ_-oUg-unsplash.png\" alt=\"Python Envs\" style=\"display: block; margin: 0 auto\" />"
   ]
  },
  {
   "cell_type": "markdown",
   "metadata": {},
   "source": [
    "# Learning Python 10 minutes a day #2\n",
    "## Using Jupyter Lab and navigating notebooks\n",
    "[Medium article link](https://towardsdatascience.com/learning-python-10-minutes-a-day-2-86a56e6f0568)"
   ]
  },
  {
   "cell_type": "markdown",
   "metadata": {},
   "source": [
    "This is a [series](https://python-10-minutes-a-day.rocks) of short 10 minute Python articles helping you to get started with Python. I try to post an article each day (no promises), starting from the very basics, going up to more complex idioms. Feel free to contact me on [LinkedIn](https://www.linkedin.com/in/dennisbakhuis/) for questions or requests on particular subjects of Python, you want to know about."
   ]
  },
  {
   "cell_type": "markdown",
   "metadata": {},
   "source": [
    "Hopefully, from the first lecture you have a general idea how Python works, and have successfully installed Python (remember my recommendation about installing it using Miniconda in [this guide](https://towardsdatascience.com/environments-conda-pip-aaaaah-d2503877884c)?). In this short article, we are going to discuss the Jupyter Notebook environment."
   ]
  },
  {
   "cell_type": "markdown",
   "metadata": {},
   "source": [
    "Notebooks are interactive documents which are build using cells. There are two types of cells, namely input cells and output cells. An input cell is created by us (the user) and can be three things: a code cell, a markdown cell, or a raw cell. A code cell, as the name already reveals, is a piece of code that can be evaluated. The output of the evaluation is shown in the output cell, right under that code cell. Markdown cells are cells with text formatted in the markdown language. There are many different formatting features available like headings, lists, font weight options. The benefit of markdown is that it is also very readable if it is not rendered. Raw cells are a special type of cell that are not evaluated by Jupyter, but can be evaluated if you are using another tool called nbconvert. I have never used the latter, but when using an auto-documentation-suite like Sphinx, it can be handy. The combination of code cells and markdown cells make it possible to have a great analysis document which combines code with explanation. This makes Notebooks a preferred way to share results."
   ]
  },
  {
   "cell_type": "markdown",
   "metadata": {},
   "source": [
    "To install Jupyter, there are two options. Just Jupyter, which gives you access to the Notebook environment, or Jupyter lab, which has a bit more features. Both are fine. The only thing to remember is that Jupyter lab sometimes requires more steps to install custom widgets. Both methods install the Jupyter Notebook server. The standard way to interact with Jupyter is through a web browser, but as it is a client-server structure, other apps can also interact with it. For example, there is a Visual Studio Code plugin which can also interact with the Notebook server and there are probably many other options. Feel free to use one of the others if you like. For now, lets install and start Jupyter lab in a new environment using the terminal:"
   ]
  },
  {
   "cell_type": "markdown",
   "metadata": {},
   "source": [
    "```bash\n",
    "conda create --name tutor python=3.7\n",
    "conda activate tutor\n",
    "pip install jupyterlabjupyter lab\n",
    "```"
   ]
  },
  {
   "cell_type": "markdown",
   "metadata": {},
   "source": [
    "<img src=\"assets/day2-jupyter1.png\" alt=\"Python Envs\"  width=\"600\" style=\"display: block; margin: 0 auto\" />\n",
    "\n",
    "*Jupyter lab after launch with the left sidebar open*\n"
   ]
  },
  {
   "cell_type": "markdown",
   "metadata": {},
   "source": [
    "A browser should open and show the main page of Jupyter lab. The window is build of three parts: a top menu bar, similar to other applications, a side menu tab bar, and a main editor pane. The side bar consists of tabs: file navigation, running kernels, commands, property inspector, open tabs, and if installed an extension manager. For now, we only talk about the first two. The navigator tab helps you navigating files on you machine. You can browse and create directories. For safety reasons, you can not go to a lower directory as Jupyter lab is opened. Jupyter is created as a server, so there are also options for uploading. The ‘plus’ symbol opens a new launcher tab in the main window, which is also automatically opened when Jupyter lab starts. In the launcher tab, you can create a new Notebook, open a IPython console in a tab, create text files, or even a terminal. Back to the side bar, the other tab shows the active kernels. Every time you open or create a Notebook, a kernel is started. Closing the Notebook will not stop the kernel until you close Jupyter lab or go to this tab and close them. If you accidentally closed a tab, you can open it from here again. Also good to know, the main editor pane can be customize to show files side by side by dragging the tabs. Definitely give that a try."
   ]
  },
  {
   "cell_type": "markdown",
   "metadata": {},
   "source": [
    "Lets create a new Notebook in the current directory using the launcher. After it is created, you can right-click on the new file in the file navigator to rename it. You can also right-click on the tab name to achieve the same. Also notice the small green dot in the file navigator showing that that file is currently running as a kernel. The new Notebook is pretty empty as it only has a single cell. On top is a small menu bar showing some basics like copy/past, cell options, and a few kernel options. Jupyter lab is a modal editor, similar to vim. It has a command mode in which you navigate or edit on cell level and a cell edit mode in which you type inside a cell. In command mode, you can easily add, remove, cut, or copy cells. For this there are shortcuts, for which a few a handy to remember (they are also available in the top menu):\n",
    "- arrow keys to move around cells. Hold shift to select cells.\n",
    "- “a” and “b” to add a cell Above or Below the current cell.\n",
    "- “c”, “x”, and “v” to Copy, Cut, or paste cells.\n",
    "- “y” or “m” to change the type of cell to code or markdown respectively.\n",
    "- “shift + enter” to evaluate current cell."
   ]
  },
  {
   "cell_type": "markdown",
   "metadata": {},
   "source": [
    "It is useful to spend some time of getting the basics of Markdown. They are dead simple and you probably only need a few. Have a look at this [cheat sheet](https://www.markdownguide.org/cheat-sheet/) and see you intuitive the syntax is."
   ]
  },
  {
   "cell_type": "markdown",
   "metadata": {},
   "source": [
    "## Practice for today:\n",
    "1. Create a new Notebook and rename it to something sensible.\n",
    "2. Do a couple of simple calculations and evaluate the cells.\n",
    "3. Change a cell to markdown and write a description, including a heading.\n",
    "4. Move around the Notebook, copy and pasting cells.\n",
    "\n",
    "#### Suggestions as numerical operators:\n",
    "`+ (addition): 10 + 12`\\\n",
    "`- (subtraction): 20 - 30`\\\n",
    "`* (multiplication): 3 * 3`\\\n",
    "`/ (division): 49 / 7`\\\n",
    "`* (power): 2**8`"
   ]
  },
  {
   "cell_type": "markdown",
   "metadata": {},
   "source": [
    "If you have any questions, feel free to contact me through [LinkedIn](https://www.linkedin.com/in/dennisbakhuis/)."
   ]
  },
  {
   "cell_type": "code",
   "execution_count": null,
   "metadata": {},
   "outputs": [],
   "source": []
  }
 ],
 "metadata": {
  "kernelspec": {
   "display_name": "Python 3",
   "language": "python",
   "name": "python3"
  },
  "language_info": {
   "codemirror_mode": {
    "name": "ipython",
    "version": 3
   },
   "file_extension": ".py",
   "mimetype": "text/x-python",
   "name": "python",
   "nbconvert_exporter": "python",
   "pygments_lexer": "ipython3",
   "version": "3.7.7"
  }
 },
 "nbformat": 4,
 "nbformat_minor": 4
}
